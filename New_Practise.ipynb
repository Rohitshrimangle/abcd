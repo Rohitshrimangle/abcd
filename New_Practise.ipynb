{
 "cells": [
  {
   "cell_type": "code",
   "execution_count": 2,
   "metadata": {},
   "outputs": [
    {
     "data": {
      "text/plain": [
       "30"
      ]
     },
     "execution_count": 2,
     "metadata": {},
     "output_type": "execute_result"
    }
   ],
   "source": [
    "a=10\n",
    "b=20\n",
    "c=a+b\n",
    "c"
   ]
  },
  {
   "cell_type": "code",
   "execution_count": 7,
   "metadata": {},
   "outputs": [
    {
     "name": "stdout",
     "output_type": "stream",
     "text": [
      "{'a': 2, 'b': 3, 'c': 4}\n"
     ]
    }
   ],
   "source": [
    "def countfre(list1):\n",
    "    frequency={}\n",
    "    for i in list1:\n",
    "        if i in frequency:\n",
    "            frequency[i]+=1\n",
    "        else:\n",
    "            frequency[i]=1\n",
    "    print(frequency)\n",
    "\n",
    "list1=['a','a','b','b','b','c','c','c','c']\n",
    "countfre(list1)"
   ]
  },
  {
   "cell_type": "code",
   "execution_count": 8,
   "metadata": {},
   "outputs": [
    {
     "name": "stdout",
     "output_type": "stream",
     "text": [
      "{'Hingoli': 4, 'Wasim': 3, 'Vasmat': 2, 'Beed': 1}\n"
     ]
    }
   ],
   "source": [
    "def countfre(list2):\n",
    "    frequency1={}\n",
    "    for i in list2:\n",
    "        if i in frequency1:\n",
    "            frequency1[i]+=1\n",
    "        else:\n",
    "            frequency1[i]=1\n",
    "    \n",
    "    print(frequency1)\n",
    "\n",
    "list2=[\"Hingoli\",\"Hingoli\",\"Hingoli\",\"Hingoli\",\"Wasim\",\"Wasim\",\"Wasim\",\"Vasmat\",\"Vasmat\",\"Beed\"]\n",
    "countfre(list2)"
   ]
  },
  {
   "cell_type": "code",
   "execution_count": 2,
   "metadata": {},
   "outputs": [
    {
     "data": {
      "text/html": [
       "<div>\n",
       "<style scoped>\n",
       "    .dataframe tbody tr th:only-of-type {\n",
       "        vertical-align: middle;\n",
       "    }\n",
       "\n",
       "    .dataframe tbody tr th {\n",
       "        vertical-align: top;\n",
       "    }\n",
       "\n",
       "    .dataframe thead th {\n",
       "        text-align: right;\n",
       "    }\n",
       "</style>\n",
       "<table border=\"1\" class=\"dataframe\">\n",
       "  <thead>\n",
       "    <tr style=\"text-align: right;\">\n",
       "      <th></th>\n",
       "      <th>Name</th>\n",
       "      <th>Marks</th>\n",
       "      <th>Result</th>\n",
       "    </tr>\n",
       "  </thead>\n",
       "  <tbody>\n",
       "    <tr>\n",
       "      <th>0</th>\n",
       "      <td>A</td>\n",
       "      <td>90</td>\n",
       "      <td>P</td>\n",
       "    </tr>\n",
       "    <tr>\n",
       "      <th>1</th>\n",
       "      <td>B</td>\n",
       "      <td>96</td>\n",
       "      <td>P</td>\n",
       "    </tr>\n",
       "    <tr>\n",
       "      <th>2</th>\n",
       "      <td>C</td>\n",
       "      <td>67</td>\n",
       "      <td>P</td>\n",
       "    </tr>\n",
       "    <tr>\n",
       "      <th>3</th>\n",
       "      <td>D</td>\n",
       "      <td>35</td>\n",
       "      <td>F</td>\n",
       "    </tr>\n",
       "  </tbody>\n",
       "</table>\n",
       "</div>"
      ],
      "text/plain": [
       "  Name Marks Result\n",
       "0    A    90      P\n",
       "1    B    96      P\n",
       "2    C    67      P\n",
       "3    D    35      F"
      ]
     },
     "execution_count": 2,
     "metadata": {},
     "output_type": "execute_result"
    }
   ],
   "source": [
    "import pandas as pd\n",
    "\n",
    "records={\n",
    "    \"Name\": [\"A\",\"B\",\"C\",\"D\"],\n",
    "    \"Marks\":[\"90\",\"96\",\"67\",\"35\"],\n",
    "    \"Result\":[\"P\",\"P\",\"P\",\"F\"]\n",
    "}\n",
    "\n",
    "df=pd.DataFrame(records)\n",
    "df"
   ]
  },
  {
   "cell_type": "code",
   "execution_count": 15,
   "metadata": {},
   "outputs": [
    {
     "name": "stdout",
     "output_type": "stream",
     "text": [
      "Updated DataFrame:\n",
      "   G1    G2  G3  G4\n",
      "0  10  25.0  15  21\n",
      "1  20  27.0  14  22\n",
      "2  30  27.0  17  23\n",
      "3  40  29.0  11  25\n"
     ]
    },
    {
     "name": "stderr",
     "output_type": "stream",
     "text": [
      "C:\\Users\\Rohitshrimangle\\AppData\\Local\\Temp\\ipykernel_16064\\3243396482.py:14: FutureWarning: A value is trying to be set on a copy of a DataFrame or Series through chained assignment using an inplace method.\n",
      "The behavior will change in pandas 3.0. This inplace method will never work because the intermediate object on which we are setting values always behaves as a copy.\n",
      "\n",
      "For example, when doing 'df[col].method(value, inplace=True)', try using 'df.method({col: value}, inplace=True)' or df[col] = df[col].method(value) instead, to perform the operation inplace on the original object.\n",
      "\n",
      "\n",
      "  gfg[\"G2\"].fillna(value=mean_value, inplace=True)\n"
     ]
    }
   ],
   "source": [
    "import numpy as np\n",
    "import pandas as pd\n",
    "\n",
    "GFG_dict={\"G1\":[10,20,30,40],\n",
    "          \"G2\":[25, np.NaN, np.NaN, 29],\n",
    "          \"G3\":[15, 14, 17, 11],\n",
    "          \"G4\":[21, 22, 23, 25]}\n",
    "\n",
    "#create a dataframe\n",
    "gfg=pd.DataFrame(GFG_dict)\n",
    "\n",
    "mean_value=gfg['G2'].mean()\n",
    "\n",
    "gfg[\"G2\"].fillna(value=mean_value, inplace=True)\n",
    "print('Updated DataFrame:')\n",
    "print(gfg)"
   ]
  },
  {
   "cell_type": "code",
   "execution_count": 17,
   "metadata": {},
   "outputs": [
    {
     "name": "stdout",
     "output_type": "stream",
     "text": [
      "Updated DataFrame\n",
      "   G1    G2  G3\n",
      "0  10  25.0  21\n",
      "1  20  27.0  22\n",
      "2  30  27.0  23\n",
      "3  40  29.0  24\n"
     ]
    },
    {
     "name": "stderr",
     "output_type": "stream",
     "text": [
      "C:\\Users\\Rohitshrimangle\\AppData\\Local\\Temp\\ipykernel_16064\\1120163469.py:12: FutureWarning: A value is trying to be set on a copy of a DataFrame or Series through chained assignment using an inplace method.\n",
      "The behavior will change in pandas 3.0. This inplace method will never work because the intermediate object on which we are setting values always behaves as a copy.\n",
      "\n",
      "For example, when doing 'df[col].method(value, inplace=True)', try using 'df.method({col: value}, inplace=True)' or df[col] = df[col].method(value) instead, to perform the operation inplace on the original object.\n",
      "\n",
      "\n",
      "  gfg[\"G2\"].fillna(value=mean_value, inplace=True)\n"
     ]
    }
   ],
   "source": [
    "import pandas as pd\n",
    "import numpy as np\n",
    "\n",
    "GFG_dict={\"G1\":[10,20,30,40],\n",
    "          \"G2\":[25,np.NaN,np.NaN,29],\n",
    "          \"G3\":[21,22,23,24]}\n",
    "\n",
    "gfg=pd.DataFrame(GFG_dict)\n",
    "\n",
    "mean_value=gfg[\"G2\"].mean()\n",
    "\n",
    "gfg[\"G2\"].fillna(value=mean_value, inplace=True)\n",
    "\n",
    "print(\"Updated DataFrame\")\n",
    "\n",
    "print(gfg)"
   ]
  },
  {
   "cell_type": "code",
   "execution_count": null,
   "metadata": {},
   "outputs": [],
   "source": []
  }
 ],
 "metadata": {
  "kernelspec": {
   "display_name": "base",
   "language": "python",
   "name": "python3"
  },
  "language_info": {
   "codemirror_mode": {
    "name": "ipython",
    "version": 3
   },
   "file_extension": ".py",
   "mimetype": "text/x-python",
   "name": "python",
   "nbconvert_exporter": "python",
   "pygments_lexer": "ipython3",
   "version": "3.12.4"
  }
 },
 "nbformat": 4,
 "nbformat_minor": 2
}
