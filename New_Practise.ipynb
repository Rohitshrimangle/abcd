{
 "cells": [
  {
   "cell_type": "code",
   "execution_count": 2,
   "metadata": {},
   "outputs": [
    {
     "data": {
      "text/plain": [
       "30"
      ]
     },
     "execution_count": 2,
     "metadata": {},
     "output_type": "execute_result"
    }
   ],
   "source": [
    "a=10\n",
    "b=20\n",
    "c=a+b\n",
    "c"
   ]
  },
  {
   "cell_type": "code",
   "execution_count": 7,
   "metadata": {},
   "outputs": [
    {
     "name": "stdout",
     "output_type": "stream",
     "text": [
      "{'a': 2, 'b': 3, 'c': 4}\n"
     ]
    }
   ],
   "source": [
    "def countfre(list1):\n",
    "    frequency={}\n",
    "    for i in list1:\n",
    "        if i in frequency:\n",
    "            frequency[i]+=1\n",
    "        else:\n",
    "            frequency[i]=1\n",
    "    print(frequency)\n",
    "\n",
    "list1=['a','a','b','b','b','c','c','c','c']\n",
    "countfre(list1)"
   ]
  },
  {
   "cell_type": "code",
   "execution_count": 8,
   "metadata": {},
   "outputs": [
    {
     "name": "stdout",
     "output_type": "stream",
     "text": [
      "{'Hingoli': 4, 'Wasim': 3, 'Vasmat': 2, 'Beed': 1}\n"
     ]
    }
   ],
   "source": [
    "def countfre(list2):\n",
    "    frequency1={}\n",
    "    for i in list2:\n",
    "        if i in frequency1:\n",
    "            frequency1[i]+=1\n",
    "        else:\n",
    "            frequency1[i]=1\n",
    "    \n",
    "    print(frequency1)\n",
    "\n",
    "list2=[\"Hingoli\",\"Hingoli\",\"Hingoli\",\"Hingoli\",\"Wasim\",\"Wasim\",\"Wasim\",\"Vasmat\",\"Vasmat\",\"Beed\"]\n",
    "countfre(list2)"
   ]
  },
  {
   "cell_type": "code",
   "execution_count": 2,
   "metadata": {},
   "outputs": [
    {
     "data": {
      "text/html": [
       "<div>\n",
       "<style scoped>\n",
       "    .dataframe tbody tr th:only-of-type {\n",
       "        vertical-align: middle;\n",
       "    }\n",
       "\n",
       "    .dataframe tbody tr th {\n",
       "        vertical-align: top;\n",
       "    }\n",
       "\n",
       "    .dataframe thead th {\n",
       "        text-align: right;\n",
       "    }\n",
       "</style>\n",
       "<table border=\"1\" class=\"dataframe\">\n",
       "  <thead>\n",
       "    <tr style=\"text-align: right;\">\n",
       "      <th></th>\n",
       "      <th>Name</th>\n",
       "      <th>Marks</th>\n",
       "      <th>Result</th>\n",
       "    </tr>\n",
       "  </thead>\n",
       "  <tbody>\n",
       "    <tr>\n",
       "      <th>0</th>\n",
       "      <td>A</td>\n",
       "      <td>90</td>\n",
       "      <td>P</td>\n",
       "    </tr>\n",
       "    <tr>\n",
       "      <th>1</th>\n",
       "      <td>B</td>\n",
       "      <td>96</td>\n",
       "      <td>P</td>\n",
       "    </tr>\n",
       "    <tr>\n",
       "      <th>2</th>\n",
       "      <td>C</td>\n",
       "      <td>67</td>\n",
       "      <td>P</td>\n",
       "    </tr>\n",
       "    <tr>\n",
       "      <th>3</th>\n",
       "      <td>D</td>\n",
       "      <td>35</td>\n",
       "      <td>F</td>\n",
       "    </tr>\n",
       "  </tbody>\n",
       "</table>\n",
       "</div>"
      ],
      "text/plain": [
       "  Name Marks Result\n",
       "0    A    90      P\n",
       "1    B    96      P\n",
       "2    C    67      P\n",
       "3    D    35      F"
      ]
     },
     "execution_count": 2,
     "metadata": {},
     "output_type": "execute_result"
    }
   ],
   "source": [
    "import pandas as pd\n",
    "\n",
    "records={\n",
    "    \"Name\": [\"A\",\"B\",\"C\",\"D\"],\n",
    "    \"Marks\":[\"90\",\"96\",\"67\",\"35\"],\n",
    "    \"Result\":[\"P\",\"P\",\"P\",\"F\"]\n",
    "}\n",
    "\n",
    "df=pd.DataFrame(records)\n",
    "df"
   ]
  },
  {
   "cell_type": "code",
   "execution_count": 1,
   "metadata": {},
   "outputs": [
    {
     "name": "stdout",
     "output_type": "stream",
     "text": [
      "Updated DataFrame:\n",
      "   G1    G2  G3  G4\n",
      "0  10  25.0  15  21\n",
      "1  20  27.0  14  22\n",
      "2  30  27.0  17  23\n",
      "3  40  29.0  11  25\n"
     ]
    },
    {
     "name": "stderr",
     "output_type": "stream",
     "text": [
      "C:\\Users\\Rohitshrimangle\\AppData\\Local\\Temp\\ipykernel_1916\\3243396482.py:14: FutureWarning: A value is trying to be set on a copy of a DataFrame or Series through chained assignment using an inplace method.\n",
      "The behavior will change in pandas 3.0. This inplace method will never work because the intermediate object on which we are setting values always behaves as a copy.\n",
      "\n",
      "For example, when doing 'df[col].method(value, inplace=True)', try using 'df.method({col: value}, inplace=True)' or df[col] = df[col].method(value) instead, to perform the operation inplace on the original object.\n",
      "\n",
      "\n",
      "  gfg[\"G2\"].fillna(value=mean_value, inplace=True)\n"
     ]
    }
   ],
   "source": [
    "import numpy as np\n",
    "import pandas as pd\n",
    "\n",
    "GFG_dict={\"G1\":[10,20,30,40],\n",
    "          \"G2\":[25, np.NaN, np.NaN, 29],\n",
    "          \"G3\":[15, 14, 17, 11],\n",
    "          \"G4\":[21, 22, 23, 25]}\n",
    "\n",
    "#create a dataframe\n",
    "gfg=pd.DataFrame(GFG_dict)\n",
    "\n",
    "mean_value=gfg['G2'].mean()\n",
    "\n",
    "gfg[\"G2\"].fillna(value=mean_value, inplace=True)\n",
    "print('Updated DataFrame:')\n",
    "print(gfg)"
   ]
  },
  {
   "cell_type": "code",
   "execution_count": 11,
   "metadata": {},
   "outputs": [
    {
     "name": "stdout",
     "output_type": "stream",
     "text": [
      "   G1    G2  G3\n",
      "0  10  25.0  21\n",
      "1  20   NaN  22\n",
      "2  30   NaN  23\n",
      "3  40  29.0  24\n",
      "Updated DataFrame\n",
      "   G1    G2  G3\n",
      "0  10  25.0  21\n",
      "1  20  27.0  22\n",
      "2  30  27.0  23\n",
      "3  40  29.0  24\n"
     ]
    },
    {
     "name": "stderr",
     "output_type": "stream",
     "text": [
      "C:\\Users\\Rohitshrimangle\\AppData\\Local\\Temp\\ipykernel_1916\\763906774.py:14: FutureWarning: A value is trying to be set on a copy of a DataFrame or Series through chained assignment using an inplace method.\n",
      "The behavior will change in pandas 3.0. This inplace method will never work because the intermediate object on which we are setting values always behaves as a copy.\n",
      "\n",
      "For example, when doing 'df[col].method(value, inplace=True)', try using 'df.method({col: value}, inplace=True)' or df[col] = df[col].method(value) instead, to perform the operation inplace on the original object.\n",
      "\n",
      "\n",
      "  gfg[\"G2\"].fillna(value=mean_value, inplace=True)\n"
     ]
    }
   ],
   "source": [
    "import pandas as pd\n",
    "import numpy as np\n",
    "\n",
    "GFG_dict={\"G1\":[10,20,30,40],\n",
    "          \"G2\":[25,np.NaN,np.NaN,29],\n",
    "          \"G3\":[21,22,23,24]}\n",
    "\n",
    "gfg=pd.DataFrame(GFG_dict)\n",
    "\n",
    "print(gfg)\n",
    "\n",
    "mean_value=gfg[\"G2\"].mean()\n",
    "\n",
    "gfg[\"G2\"].fillna(value=mean_value, inplace=True)\n",
    "\n",
    "print(\"Updated DataFrame\")\n",
    "\n",
    "print(gfg)"
   ]
  },
  {
   "cell_type": "code",
   "execution_count": 14,
   "metadata": {},
   "outputs": [
    {
     "name": "stdout",
     "output_type": "stream",
     "text": [
      "        Name  Age University\n",
      "0      Ankit   23        BHU\n",
      "1  Aishwarya   21        JNU\n",
      "2    Shaurya   22         DU\n",
      "3   Shivangi   21        BHU\n"
     ]
    },
    {
     "data": {
      "text/html": [
       "<div>\n",
       "<style scoped>\n",
       "    .dataframe tbody tr th:only-of-type {\n",
       "        vertical-align: middle;\n",
       "    }\n",
       "\n",
       "    .dataframe tbody tr th {\n",
       "        vertical-align: top;\n",
       "    }\n",
       "\n",
       "    .dataframe thead th {\n",
       "        text-align: right;\n",
       "    }\n",
       "</style>\n",
       "<table border=\"1\" class=\"dataframe\">\n",
       "  <thead>\n",
       "    <tr style=\"text-align: right;\">\n",
       "      <th></th>\n",
       "      <th>Name</th>\n",
       "      <th>Age</th>\n",
       "      <th>University</th>\n",
       "    </tr>\n",
       "  </thead>\n",
       "  <tbody>\n",
       "    <tr>\n",
       "      <th>a</th>\n",
       "      <td>Ankit</td>\n",
       "      <td>23</td>\n",
       "      <td>BHU</td>\n",
       "    </tr>\n",
       "    <tr>\n",
       "      <th>b</th>\n",
       "      <td>Aishwarya</td>\n",
       "      <td>21</td>\n",
       "      <td>JNU</td>\n",
       "    </tr>\n",
       "    <tr>\n",
       "      <th>c</th>\n",
       "      <td>Shaurya</td>\n",
       "      <td>22</td>\n",
       "      <td>DU</td>\n",
       "    </tr>\n",
       "    <tr>\n",
       "      <th>d</th>\n",
       "      <td>Shivangi</td>\n",
       "      <td>21</td>\n",
       "      <td>BHU</td>\n",
       "    </tr>\n",
       "  </tbody>\n",
       "</table>\n",
       "</div>"
      ],
      "text/plain": [
       "        Name  Age University\n",
       "a      Ankit   23        BHU\n",
       "b  Aishwarya   21        JNU\n",
       "c    Shaurya   22         DU\n",
       "d   Shivangi   21        BHU"
      ]
     },
     "execution_count": 14,
     "metadata": {},
     "output_type": "execute_result"
    }
   ],
   "source": [
    "import pandas as pd\n",
    "\n",
    "details={\n",
    "    'Name':['Ankit','Aishwarya','Shaurya','Shivangi'],\n",
    "    'Age':[23,21,22,21],\n",
    "    'University':['BHU','JNU','DU','BHU'],\n",
    "}\n",
    "\n",
    "df=pd.DataFrame(details)\n",
    "\n",
    "print(df)\n",
    "\n",
    "df=pd.DataFrame(details, index=['a','b','c','d'])\n",
    "df"
   ]
  },
  {
   "cell_type": "code",
   "execution_count": 19,
   "metadata": {},
   "outputs": [
    {
     "name": "stdout",
     "output_type": "stream",
     "text": [
      "      Names  Age University\n",
      "0     Rohit   28         PU\n",
      "1     Rahul   28         GU\n",
      "2  Shrihari   29         LU\n"
     ]
    },
    {
     "data": {
      "text/html": [
       "<div>\n",
       "<style scoped>\n",
       "    .dataframe tbody tr th:only-of-type {\n",
       "        vertical-align: middle;\n",
       "    }\n",
       "\n",
       "    .dataframe tbody tr th {\n",
       "        vertical-align: top;\n",
       "    }\n",
       "\n",
       "    .dataframe thead th {\n",
       "        text-align: right;\n",
       "    }\n",
       "</style>\n",
       "<table border=\"1\" class=\"dataframe\">\n",
       "  <thead>\n",
       "    <tr style=\"text-align: right;\">\n",
       "      <th></th>\n",
       "      <th>Names</th>\n",
       "      <th>Age</th>\n",
       "      <th>University</th>\n",
       "    </tr>\n",
       "  </thead>\n",
       "  <tbody>\n",
       "    <tr>\n",
       "      <th>a</th>\n",
       "      <td>Rohit</td>\n",
       "      <td>28</td>\n",
       "      <td>PU</td>\n",
       "    </tr>\n",
       "    <tr>\n",
       "      <th>b</th>\n",
       "      <td>Rahul</td>\n",
       "      <td>28</td>\n",
       "      <td>GU</td>\n",
       "    </tr>\n",
       "    <tr>\n",
       "      <th>c</th>\n",
       "      <td>Shrihari</td>\n",
       "      <td>29</td>\n",
       "      <td>LU</td>\n",
       "    </tr>\n",
       "  </tbody>\n",
       "</table>\n",
       "</div>"
      ],
      "text/plain": [
       "      Names  Age University\n",
       "a     Rohit   28         PU\n",
       "b     Rahul   28         GU\n",
       "c  Shrihari   29         LU"
      ]
     },
     "execution_count": 19,
     "metadata": {},
     "output_type": "execute_result"
    }
   ],
   "source": [
    "import pandas as pd\n",
    "\n",
    "details={\n",
    "    \"Names\":['Rohit','Rahul','Shrihari'],\n",
    "    \"Age\":[28,28,29],\n",
    "    \"University\":['PU','GU','LU']\n",
    "}\n",
    "\n",
    "df=pd.DataFrame(details)\n",
    "print(df)\n",
    "\n",
    "df_index=pd.DataFrame(details, index=['a','b','c'])\n",
    "df_index"
   ]
  },
  {
   "cell_type": "code",
   "execution_count": 11,
   "metadata": {},
   "outputs": [
    {
     "name": "stdout",
     "output_type": "stream",
     "text": [
      "    Names  Marks Status\n",
      "0     Tom      9   Fail\n",
      "1    Jack     19   Pass\n",
      "2   Lucky     20   Pass\n",
      "3     Bob     17   Pass\n",
      "4   Jerry     11   Pass\n",
      "5   Alice     18   Pass\n",
      "6  Thomas      5   Fail\n",
      "7  barbie      8   Fail\n"
     ]
    },
    {
     "data": {
      "text/html": [
       "<div>\n",
       "<style scoped>\n",
       "    .dataframe tbody tr th:only-of-type {\n",
       "        vertical-align: middle;\n",
       "    }\n",
       "\n",
       "    .dataframe tbody tr th {\n",
       "        vertical-align: top;\n",
       "    }\n",
       "\n",
       "    .dataframe thead th {\n",
       "        text-align: right;\n",
       "    }\n",
       "</style>\n",
       "<table border=\"1\" class=\"dataframe\">\n",
       "  <thead>\n",
       "    <tr style=\"text-align: right;\">\n",
       "      <th></th>\n",
       "      <th>Names</th>\n",
       "      <th>Marks</th>\n",
       "      <th>Status</th>\n",
       "    </tr>\n",
       "  </thead>\n",
       "  <tbody>\n",
       "    <tr>\n",
       "      <th>0</th>\n",
       "      <td>Tom</td>\n",
       "      <td>9</td>\n",
       "      <td>Fail</td>\n",
       "    </tr>\n",
       "    <tr>\n",
       "      <th>1</th>\n",
       "      <td>Jack</td>\n",
       "      <td>19</td>\n",
       "      <td>Pass</td>\n",
       "    </tr>\n",
       "    <tr>\n",
       "      <th>2</th>\n",
       "      <td>Lucky</td>\n",
       "      <td>20</td>\n",
       "      <td>Pass</td>\n",
       "    </tr>\n",
       "  </tbody>\n",
       "</table>\n",
       "</div>"
      ],
      "text/plain": [
       "   Names  Marks Status\n",
       "0    Tom      9   Fail\n",
       "1   Jack     19   Pass\n",
       "2  Lucky     20   Pass"
      ]
     },
     "execution_count": 11,
     "metadata": {},
     "output_type": "execute_result"
    }
   ],
   "source": [
    "import pandas as pd\n",
    "\n",
    "records={\n",
    "    \"Names\":['Tom','Jack','Lucky','Bob','Jerry','Alice','Thomas','barbie'],\n",
    "\n",
    "    \"Marks\":[9,19,20,17,11,18,5,8],\n",
    "\n",
    "    \"Status\":['Fail','Pass','Pass','Pass','Pass','Pass','Fail','Fail']\n",
    "}\n",
    "\n",
    "df=pd.DataFrame(records)\n",
    "print(df)\n",
    "\n",
    "df1=df.head(3)\n",
    "df1"
   ]
  },
  {
   "cell_type": "code",
   "execution_count": 32,
   "metadata": {},
   "outputs": [
    {
     "name": "stdout",
     "output_type": "stream",
     "text": [
      "     Books  Price  Rating\n",
      "0  English    100     3.5\n",
      "1  Marathi    150     4.5\n",
      "2    Hindi    125     3.0\n",
      "3  History    200     4.0\n",
      "4  Science    250     3.7\n",
      "5    Maths    175     5.0 \n",
      "\n",
      "     Books  Price\n",
      "0  English    100\n",
      "1  Marathi    150\n",
      "2    Hindi    125\n"
     ]
    }
   ],
   "source": [
    "import pandas as pd\n",
    "\n",
    "Library={\n",
    "    \"Books\":['English','Marathi','Hindi','History','Science','Maths'],\n",
    "    \"Price\":[100,150,125,200,250,175],\n",
    "    \"Rating\":[3.5,4.5,3,4,3.7,5]\n",
    "}\n",
    "\n",
    "df=pd.DataFrame(Library)\n",
    "print(df,'\\n')\n",
    "\n",
    "df1=df.head(3)\n",
    "#print(df1,'\\n')\n",
    "\n",
    "print(df1[['Books','Price']])"
   ]
  },
  {
   "cell_type": "code",
   "execution_count": null,
   "metadata": {},
   "outputs": [],
   "source": []
  }
 ],
 "metadata": {
  "kernelspec": {
   "display_name": "base",
   "language": "python",
   "name": "python3"
  },
  "language_info": {
   "codemirror_mode": {
    "name": "ipython",
    "version": 3
   },
   "file_extension": ".py",
   "mimetype": "text/x-python",
   "name": "python",
   "nbconvert_exporter": "python",
   "pygments_lexer": "ipython3",
   "version": "3.12.4"
  }
 },
 "nbformat": 4,
 "nbformat_minor": 2
}
