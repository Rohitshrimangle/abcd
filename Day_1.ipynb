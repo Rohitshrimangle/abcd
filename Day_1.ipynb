{
 "cells": [
  {
   "cell_type": "code",
   "execution_count": 1,
   "metadata": {},
   "outputs": [
    {
     "data": {
      "text/plain": [
       "3"
      ]
     },
     "execution_count": 1,
     "metadata": {},
     "output_type": "execute_result"
    }
   ],
   "source": [
    "# Test cell\n",
    "\n",
    "a=1\n",
    "b=2\n",
    "c=a+b\n",
    "c"
   ]
  },
  {
   "cell_type": "code",
   "execution_count": 2,
   "metadata": {},
   "outputs": [
    {
     "name": "stdout",
     "output_type": "stream",
     "text": [
      "Value in 'a' is (1+2j) and it's data type is <class 'complex'>\n"
     ]
    }
   ],
   "source": [
    "a=1+2j\n",
    "print(\"Value in 'a' is {} and it's data type is {}\".format(a,type(a)))"
   ]
  },
  {
   "cell_type": "code",
   "execution_count": 3,
   "metadata": {},
   "outputs": [
    {
     "name": "stdout",
     "output_type": "stream",
     "text": [
      "R\n",
      "o\n",
      "h\n",
      "i\n",
      "t\n"
     ]
    }
   ],
   "source": [
    "# write a program to print every character in new line\n",
    "\n",
    "a=\"Rohit\"\n",
    "for i in a:\n",
    "    print(i)"
   ]
  },
  {
   "cell_type": "code",
   "execution_count": 36,
   "metadata": {},
   "outputs": [
    {
     "name": "stdout",
     "output_type": "stream",
     "text": [
      "1\n",
      "2\n",
      "3\n",
      "4\n",
      "5\n"
     ]
    }
   ],
   "source": [
    "# write a program to print every integer in new line without using any for loop (Recursion concept)\n",
    "\n",
    "def fun(n,i=1):\n",
    "    if i <=n:\n",
    "        print(i)\n",
    "        fun(n,i+1)\n",
    "\n",
    "fun(5)"
   ]
  },
  {
   "cell_type": "code",
   "execution_count": 60,
   "metadata": {},
   "outputs": [
    {
     "name": "stdout",
     "output_type": "stream",
     "text": [
      "1\n",
      "2\n",
      "3\n",
      "4\n",
      "5\n"
     ]
    }
   ],
   "source": [
    "# write a program to print every integer in new line with using for loop\n",
    "def func(n):\n",
    "    for i in range(n):\n",
    "        print(i+1)\n",
    "\n",
    "\n",
    "n=5\n",
    "func(n)"
   ]
  },
  {
   "cell_type": "code",
   "execution_count": 61,
   "metadata": {},
   "outputs": [
    {
     "name": "stdout",
     "output_type": "stream",
     "text": [
      "r\n",
      "o\n",
      "h\n",
      "i\n",
      "t\n"
     ]
    }
   ],
   "source": [
    "# write a program to print every character in new line with using for loop\n",
    "\n",
    "def name(n):\n",
    "    for i in n:\n",
    "        print(i)\n",
    "\n",
    "n=\"rohit\"\n",
    "name(n)"
   ]
  },
  {
   "cell_type": "code",
   "execution_count": 65,
   "metadata": {},
   "outputs": [
    {
     "name": "stdout",
     "output_type": "stream",
     "text": [
      "r\n",
      "o\n",
      "h\n",
      "i\n",
      "t\n"
     ]
    }
   ],
   "source": [
    "# write a program to print every integer in new line without using any for loop (Recursion concept)\n",
    "\n",
    "def name(n,i=0):\n",
    "    if i < len(n):\n",
    "        print(n[i])\n",
    "        name(n,i+1)\n",
    "\n",
    "n=\"rohit\"\n",
    "name(n)"
   ]
  },
  {
   "cell_type": "code",
   "execution_count": 5,
   "metadata": {},
   "outputs": [
    {
     "name": "stdout",
     "output_type": "stream",
     "text": [
      "16\n"
     ]
    }
   ],
   "source": [
    "#write python program to print the lenth of string with using len function\n",
    "\n",
    "test=\"Rohit Shrimangle\"\n",
    "print(len(test))"
   ]
  },
  {
   "cell_type": "code",
   "execution_count": 32,
   "metadata": {},
   "outputs": [
    {
     "name": "stdout",
     "output_type": "stream",
     "text": [
      "16\n"
     ]
    }
   ],
   "source": [
    "#write python program to print the lenth of string without using len function\n",
    "\n",
    "def func(test1):\n",
    "    count=0\n",
    "\n",
    "    for i in test1:\n",
    "        count=count+1\n",
    "    return count\n",
    "\n",
    "test1=\"Machine Learning\"\n",
    "print(func(test1))\n"
   ]
  },
  {
   "cell_type": "code",
   "execution_count": 34,
   "metadata": {},
   "outputs": [
    {
     "name": "stdout",
     "output_type": "stream",
     "text": [
      "8\n"
     ]
    }
   ],
   "source": [
    "def func(test2):\n",
    "    count=0\n",
    "\n",
    "    for i in test2:\n",
    "        count+=1\n",
    "    return count\n",
    "\n",
    "test2=\"Practise\"\n",
    "print(func(test2))"
   ]
  },
  {
   "cell_type": "code",
   "execution_count": 35,
   "metadata": {},
   "outputs": [
    {
     "name": "stdout",
     "output_type": "stream",
     "text": [
      "15\n"
     ]
    }
   ],
   "source": [
    "def func(test3):\n",
    "    count=0\n",
    "\n",
    "    for i in test3:\n",
    "        count=count+1\n",
    "    return count\n",
    "\n",
    "test3='Python practise'\n",
    "print(func(test3))"
   ]
  },
  {
   "cell_type": "code",
   "execution_count": 56,
   "metadata": {},
   "outputs": [
    {
     "name": "stdout",
     "output_type": "stream",
     "text": [
      "3\n"
     ]
    }
   ],
   "source": [
    "test11='one'\n",
    "count=0\n",
    "for i in test11:\n",
    "    count=count+1\n",
    "\n",
    "print(count)"
   ]
  },
  {
   "cell_type": "code",
   "execution_count": 58,
   "metadata": {},
   "outputs": [
    {
     "name": "stdout",
     "output_type": "stream",
     "text": [
      "3\n"
     ]
    }
   ],
   "source": [
    "test22='two'\n",
    "count=0\n",
    "for i in test22:\n",
    "    count=count+1\n",
    "    \n",
    "print(count)"
   ]
  },
  {
   "cell_type": "code",
   "execution_count": 59,
   "metadata": {},
   "outputs": [
    {
     "name": "stdout",
     "output_type": "stream",
     "text": [
      "5\n"
     ]
    }
   ],
   "source": [
    "test33='three'\n",
    "count=0\n",
    "for i in test33:\n",
    "    count=count+1\n",
    "\n",
    "\n",
    "print(count)"
   ]
  },
  {
   "cell_type": "code",
   "execution_count": 60,
   "metadata": {},
   "outputs": [
    {
     "name": "stdout",
     "output_type": "stream",
     "text": [
      "4\n"
     ]
    }
   ],
   "source": [
    "test44='four'\n",
    "count=0\n",
    "for i in test44:\n",
    "    count=count+1\n",
    "    \n",
    "\n",
    "print(count)"
   ]
  },
  {
   "cell_type": "code",
   "execution_count": 61,
   "metadata": {},
   "outputs": [
    {
     "name": "stdout",
     "output_type": "stream",
     "text": [
      "4\n"
     ]
    }
   ],
   "source": [
    "test55='five'\n",
    "count=0\n",
    "for i in test55:\n",
    "    count+=1\n",
    "\n",
    "print(count)"
   ]
  },
  {
   "cell_type": "code",
   "execution_count": 62,
   "metadata": {},
   "outputs": [
    {
     "name": "stdout",
     "output_type": "stream",
     "text": [
      "3\n"
     ]
    }
   ],
   "source": [
    "test66='Six'\n",
    "count=0\n",
    "\n",
    "for i in test66:\n",
    "    count+=1\n",
    "\n",
    "print(count)"
   ]
  },
  {
   "cell_type": "code",
   "execution_count": 63,
   "metadata": {},
   "outputs": [
    {
     "name": "stdout",
     "output_type": "stream",
     "text": [
      "5\n"
     ]
    }
   ],
   "source": [
    "test77='seven'\n",
    "count=0\n",
    "for i in test77:\n",
    "    count+=1\n",
    "\n",
    "print(count)"
   ]
  },
  {
   "cell_type": "code",
   "execution_count": 65,
   "metadata": {},
   "outputs": [
    {
     "name": "stdout",
     "output_type": "stream",
     "text": [
      "5\n"
     ]
    }
   ],
   "source": [
    "test88='eight'\n",
    "count=0\n",
    "for i in test88:\n",
    "    count+=1\n",
    "\n",
    "print(count)"
   ]
  },
  {
   "cell_type": "code",
   "execution_count": 66,
   "metadata": {},
   "outputs": [
    {
     "name": "stdout",
     "output_type": "stream",
     "text": [
      "4\n"
     ]
    }
   ],
   "source": [
    "test99='nine'\n",
    "count=0\n",
    "for i in test99:\n",
    "    count=count+1\n",
    "\n",
    "print(count)"
   ]
  },
  {
   "cell_type": "code",
   "execution_count": 67,
   "metadata": {},
   "outputs": [
    {
     "name": "stdout",
     "output_type": "stream",
     "text": [
      "3\n"
     ]
    }
   ],
   "source": [
    "test10='ten'\n",
    "count=0\n",
    "for i in test10:\n",
    "    count+=1\n",
    "\n",
    "print(count)"
   ]
  },
  {
   "cell_type": "code",
   "execution_count": 68,
   "metadata": {},
   "outputs": [
    {
     "data": {
      "text/plain": [
       "True"
      ]
     },
     "execution_count": 68,
     "metadata": {},
     "output_type": "execute_result"
    }
   ],
   "source": [
    "rohit=\"study hard\"\n",
    "\n",
    "\"hard\" in rohit"
   ]
  },
  {
   "cell_type": "code",
   "execution_count": 87,
   "metadata": {},
   "outputs": [
    {
     "name": "stdout",
     "output_type": "stream",
     "text": [
      "vowels: 5 -> ['o', 'i', 'i', 'a', 'e']\n",
      "consonants 10 -> ['R', 'h', 't', 'S', 'h', 'r', 'm', 'n', 'g', 'l']\n",
      "space 1 -> []\n"
     ]
    }
   ],
   "source": [
    "# write a program to find vowels and consonants\n",
    "\n",
    "str=\"Rohit Shrimangle\"\n",
    "\n",
    "vowels=\"AEIOUaeiou\"\n",
    "consonants=\"ABCDEFGHIJKLMNOPQRSTUVWXYZabcdefghijklmnopqrstuvwxyz\"\n",
    "space=\" \"\n",
    "v=0\n",
    "c=0\n",
    "s=0\n",
    "\n",
    "vowel_char=[]\n",
    "consonants_char=[]\n",
    "spaces=[]\n",
    "\n",
    "for i in str:\n",
    "    if i in vowels:\n",
    "        v+=1\n",
    "        vowel_char.append(i)\n",
    "        \n",
    "    elif i in consonants:\n",
    "        c+=1\n",
    "        consonants_char.append(i)\n",
    "        \n",
    "    elif i in space:\n",
    "        s+=1\n",
    "        \n",
    "\n",
    "print('vowels:',v,\"->\",vowel_char)\n",
    "print('consonants',c,\"->\",consonants_char)\n",
    "print('space',s,\"->\",spaces)"
   ]
  },
  {
   "cell_type": "code",
   "execution_count": 11,
   "metadata": {},
   "outputs": [
    {
     "name": "stdout",
     "output_type": "stream",
     "text": [
      "22\n",
      "3\n",
      "16\n",
      "3\n"
     ]
    }
   ],
   "source": [
    "# write a python prog to count uppercase lowercase and special characheters in a given string\n",
    "\n",
    "str=\"Rohit is Studying Hard\"\n",
    "up=0\n",
    "lo=0\n",
    "sp=0\n",
    "\n",
    "for i in range(len(str)):\n",
    "    if(str[i].isupper()):\n",
    "        up+=1\n",
    "    elif(str[i].islower()):\n",
    "        lo=lo+1\n",
    "    else:\n",
    "        sp+=1\n",
    "\n",
    "print(len(str))\n",
    "print(up)\n",
    "print(lo)\n",
    "print(sp)\n",
    "\n"
   ]
  },
  {
   "cell_type": "code",
   "execution_count": 28,
   "metadata": {},
   "outputs": [
    {
     "name": "stdout",
     "output_type": "stream",
     "text": [
      "hll, hv  grt dy\n"
     ]
    }
   ],
   "source": [
    "# write a program to delete all consonants from given string\n",
    "\n",
    "str1=\"hello, have a great day\"\n",
    "\n",
    "vo=\"aeiou\"\n",
    "\n",
    "str2=\"\"\n",
    "\n",
    "for i in (str1):\n",
    "    if i not in vo:\n",
    "        str2+=i\n",
    "print(str2)"
   ]
  },
  {
   "cell_type": "code",
   "execution_count": 31,
   "metadata": {},
   "outputs": [
    {
     "name": "stdout",
     "output_type": "stream",
     "text": [
      "hll, hv  grt dy\n"
     ]
    }
   ],
   "source": [
    "strg=\"hello, have a great day\"\n",
    "\n",
    "vo='aeiou'\n",
    "strg2=''\n",
    "\n",
    "for i in strg:\n",
    "    if i not in vo:\n",
    "        strg2+=i\n",
    "\n",
    "print(strg2)"
   ]
  },
  {
   "cell_type": "code",
   "execution_count": 39,
   "metadata": {},
   "outputs": [
    {
     "data": {
      "text/plain": [
       "'rohitshriangle'"
      ]
     },
     "execution_count": 39,
     "metadata": {},
     "output_type": "execute_result"
    }
   ],
   "source": [
    "#delete 9th character\n",
    "a='rohitshrimangle'\n",
    "n=9\n",
    "b=a[0:n]\n",
    "c=a[n+1:]\n",
    "d=b+c\n",
    "d"
   ]
  },
  {
   "cell_type": "code",
   "execution_count": 50,
   "metadata": {},
   "outputs": [
    {
     "name": "stdout",
     "output_type": "stream",
     "text": [
      "Print the first character P\n",
      "Print the last character g\n",
      "Exchange the first and last character: gractise codinP\n"
     ]
    }
   ],
   "source": [
    "#exchange the characters from string\n",
    "\n",
    "test1=\"Practise coding\"\n",
    "for i in test1:\n",
    "    a=test1[0]\n",
    "    b=test1[1:-1]\n",
    "    c=test1[-1]\n",
    "    d=c+b+a\n",
    "\n",
    "print(\"Print the first character\",a)\n",
    "print(\"Print the last character\",c)\n",
    "print(\"Exchange the first and last character:\",d)"
   ]
  },
  {
   "cell_type": "code",
   "execution_count": 74,
   "metadata": {},
   "outputs": [
    {
     "name": "stdout",
     "output_type": "stream",
     "text": [
      "is : 1\n",
      "My : 1\n",
      "rohit : 1\n",
      "name : 1\n"
     ]
    }
   ],
   "source": [
    "#write a python program to count the occurance of each word\n",
    "\n",
    "test2='My name is rohit'\n",
    "\n",
    "count=0\n",
    "a=test2.split()\n",
    "b=list(set(a))\n",
    "dic={}\n",
    "\n",
    "for i in b:\n",
    "    #if i in occ:\n",
    "    #count=count+1\n",
    "    print(i,\":\",a.count(i))\n",
    "\n",
    "\n",
    "#print(len(test2))"
   ]
  },
  {
   "cell_type": "code",
   "execution_count": 81,
   "metadata": {},
   "outputs": [
    {
     "name": "stdout",
     "output_type": "stream",
     "text": [
      "16\n",
      "e is rohit\n",
      "MY NAME IS ROHIT\n",
      "my name is rohit\n",
      "My name is rohit\n"
     ]
    }
   ],
   "source": [
    "print(len(test2))\n",
    "print(test2[6:])  #print last 10 character\n",
    "print(test2.upper())\n",
    "print(test2.lower())\n",
    "print(test2.capitalize())"
   ]
  },
  {
   "cell_type": "code",
   "execution_count": 98,
   "metadata": {},
   "outputs": [
    {
     "name": "stdout",
     "output_type": "stream",
     "text": [
      "Original String: 101.02,300\n",
      "Swaped string  : 101,02.300\n"
     ]
    }
   ],
   "source": [
    "#write a code to  swap commas and dots in a given string\n",
    "\n",
    "test3=\"101.02,300\"\n",
    "print(\"Original String:\",test3)\n",
    "a=test3.replace('.','@')\n",
    "#print(a)\n",
    "b=a.replace(\",\",\".\")\n",
    "#print(b)\n",
    "c=b.replace(\"@\",\",\")\n",
    "print(\"Swaped string  :\",c)"
   ]
  },
  {
   "cell_type": "code",
   "execution_count": 9,
   "metadata": {},
   "outputs": [
    {
     "name": "stdout",
     "output_type": "stream",
     "text": [
      "Repeated character is: r\n"
     ]
    }
   ],
   "source": [
    "#write a python program to print the first repeated character in a string\n",
    "\n",
    "test4=\"rohit shroimangle\"\n",
    "\n",
    "repeated_char=None\n",
    "count=0\n",
    "\n",
    "for i in test4:\n",
    "    if test4.count(i)>1:\n",
    "        repeated_char=i\n",
    "        count=count+1\n",
    "        break\n",
    "if repeated_char:\n",
    "    print(\"Repeated character is:\",repeated_char)#,\"Count of Repeated character:\",count)\n",
    "else:\n",
    "    print('no repeated characters')\n",
    "\n",
    "## This code will give repeated character for first character means whichever character will come first if any character at 2nd index or onward repeat it will not consider in this code.\n",
    "## Eg: \"rohit shrimangle\" - correct      it will check for first char 'r'\n",
    "##     \"rohit oshrimangle\" - incorrect   it will check for first char 'r' only."
   ]
  },
  {
   "cell_type": "code",
   "execution_count": 11,
   "metadata": {},
   "outputs": [
    {
     "name": "stdout",
     "output_type": "stream",
     "text": [
      "The first repeated character is: h\n"
     ]
    }
   ],
   "source": [
    "s = input(\"Enter a string: \")\n",
    "seen = set()\n",
    "\n",
    "for char in s:\n",
    "    if char in seen:\n",
    "        print(f\"The first repeated character is: {char}\")\n",
    "        break\n",
    "    seen.add(char)\n",
    "else:\n",
    "    print(\"No repeated characters\")"
   ]
  },
  {
   "cell_type": "code",
   "execution_count": 16,
   "metadata": {},
   "outputs": [
    {
     "name": "stdout",
     "output_type": "stream",
     "text": [
      "repeated charac a\n"
     ]
    }
   ],
   "source": [
    "\n",
    "# write a python program to find the repeated characters from a string and there count\n",
    "\n",
    "test5=\"banana\"\n",
    "\n",
    "empt_vable=None\n",
    "count=0\n",
    "\n",
    "for i in test5:\n",
    "    if test5.count(i)>1:\n",
    "        empt_vable=i\n",
    "        break\n",
    "if empt_vable:\n",
    "        print('repeated charac',empt_vable)\n",
    "else:\n",
    "     print(\"No repeatation\")\n",
    "\n",
    "## Wrong : Nice try"
   ]
  },
  {
   "cell_type": "code",
   "execution_count": 17,
   "metadata": {},
   "outputs": [
    {
     "name": "stdout",
     "output_type": "stream",
     "text": [
      "Repeated characters and their count:\n",
      "'p': 2\n",
      "'r': 2\n",
      "'o': 2\n",
      "'g': 2\n",
      "'m': 2\n",
      "'i': 2\n",
      "'n': 3\n",
      "' ': 2\n"
     ]
    }
   ],
   "source": [
    "#write a python program to find the repeated characters from a string and there count\n",
    "\n",
    "\n",
    "from collections import Counter\n",
    "\n",
    "def find_repeated_chars(s):\n",
    "    char_count = Counter(s)  # Count occurrences of each character\n",
    "    repeated_chars = {char: count for char, count in char_count.items() if count > 1}\n",
    "    \n",
    "    return repeated_chars\n",
    "\n",
    "# Example usage\n",
    "string = \"programming in python\"\n",
    "repeated = find_repeated_chars(string)\n",
    "\n",
    "print(\"Repeated characters and their count:\")\n",
    "for char, count in repeated.items():\n",
    "    print(f\"'{char}': {count}\")\n"
   ]
  },
  {
   "cell_type": "code",
   "execution_count": 2,
   "metadata": {},
   "outputs": [
    {
     "name": "stdout",
     "output_type": "stream",
     "text": [
      "Repeated characters and their count:\n",
      "'p': 2\n",
      "'r': 2\n",
      "'o': 2\n",
      "'g': 2\n",
      "'m': 2\n",
      "'i': 2\n",
      "'n': 3\n",
      "' ': 2\n"
     ]
    }
   ],
   "source": [
    "\n",
    "from collections import Counter\n",
    "\n",
    "def find_repeated_chars(s):\n",
    "    char_count = Counter(s)  # Count occurrences of each character\n",
    "    repeated_chars = {char: count for char, count in char_count.items() if count > 1}\n",
    "    \n",
    "    return repeated_chars\n",
    "\n",
    "# Example usage\n",
    "string = \"programming in python\"\n",
    "repeated = find_repeated_chars(string)\n",
    "\n",
    "print(\"Repeated characters and their count:\")\n",
    "for char, count in repeated.items():\n",
    "    print(f\"'{char}': {count}\")"
   ]
  },
  {
   "cell_type": "code",
   "execution_count": null,
   "metadata": {},
   "outputs": [
    {
     "name": "stdout",
     "output_type": "stream",
     "text": [
      "Repeated characters and their count:\n",
      "'p': 2\n",
      "'r': 2\n",
      "'o': 2\n",
      "'g': 2\n",
      "'m': 2\n",
      "'i': 2\n",
      "'n': 3\n",
      "' ': 2\n"
     ]
    }
   ],
   "source": [
    "from collections import Counter   #\n",
    "\n",
    "def find_repeated_chars(s):\n",
    "    char_count = Counter(s)  # Count occurrences of each character\n",
    "    repeated_chars = {char: count for char, count in char_count.items() if count > 1}\n",
    "    \n",
    "    return repeated_chars\n",
    "\n",
    "# Example usage\n",
    "string = \"programming in python\"\n",
    "repeated = find_repeated_chars(string)\n",
    "\n",
    "print(\"Repeated characters and their count:\")\n",
    "for char, count in repeated.items():\n",
    "    print(f\"'{char}': {count}\")"
   ]
  },
  {
   "cell_type": "code",
   "execution_count": 10,
   "metadata": {},
   "outputs": [
    {
     "name": "stdout",
     "output_type": "stream",
     "text": [
      "Count of elements in data:\n",
      "Counter({4: 4, 3: 3, 2: 2, 1: 1})\n",
      "[(4, 4), (3, 3)]\n",
      "Count of characters in text:\n",
      "Counter({'a': 3, 'n': 2, 'b': 1})\n",
      "[('a', 3), ('n', 2)]\n"
     ]
    }
   ],
   "source": [
    "from collections import Counter\n",
    "data=[1,2,2,3,3,3,4,4,4,4]\n",
    "count_data=Counter(data)\n",
    "print(\"Count of elements in data:\")\n",
    "print(count_data)\n",
    "print(count_data.most_common(2))\n",
    "\n",
    "text=\"banana\"\n",
    "count=Counter(text)\n",
    "print(\"Count of characters in text:\")\n",
    "print(count)\n",
    "print(count.most_common(2))"
   ]
  },
  {
   "cell_type": "code",
   "execution_count": 12,
   "metadata": {},
   "outputs": [
    {
     "name": "stdout",
     "output_type": "stream",
     "text": [
      "count of elements in data:\n",
      "Counter({5: 5, 4: 4, 3: 3, 2: 2, 1: 1})\n"
     ]
    }
   ],
   "source": [
    "from collections import Counter\n",
    "\n",
    "data=[1,2,2,3,3,3,4,4,4,4,5,5,5,5,5]\n",
    "count=Counter(data)\n",
    "print(\"count of elements in data:\")\n",
    "print(count)"
   ]
  },
  {
   "cell_type": "code",
   "execution_count": 41,
   "metadata": {},
   "outputs": [
    {
     "name": "stdout",
     "output_type": "stream",
     "text": [
      "Not Prime number\n"
     ]
    }
   ],
   "source": [
    "# write a python program to check wheater the given number is prime number or not\n",
    "\n",
    "n=4\n",
    "if n>1:\n",
    "     for i in range(2,int(n**0.5)+1):\n",
    "          if n%i==0:\n",
    "            print(\"Not Prime number\")\n",
    "            break\n",
    "     else:\n",
    "         print('Prime')"
   ]
  },
  {
   "cell_type": "code",
   "execution_count": null,
   "metadata": {},
   "outputs": [],
   "source": []
  }
 ],
 "metadata": {
  "kernelspec": {
   "display_name": "base",
   "language": "python",
   "name": "python3"
  },
  "language_info": {
   "codemirror_mode": {
    "name": "ipython",
    "version": 3
   },
   "file_extension": ".py",
   "mimetype": "text/x-python",
   "name": "python",
   "nbconvert_exporter": "python",
   "pygments_lexer": "ipython3",
   "version": "3.12.4"
  }
 },
 "nbformat": 4,
 "nbformat_minor": 2
}
