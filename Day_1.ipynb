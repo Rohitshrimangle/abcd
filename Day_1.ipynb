{
 "cells": [
  {
   "cell_type": "code",
   "execution_count": null,
   "metadata": {},
   "outputs": [],
   "source": [
    "# Test cell\n",
    "\n",
    "a=1\n",
    "b=2\n",
    "c=a+b\n",
    "c"
   ]
  },
  {
   "cell_type": "code",
   "execution_count": null,
   "metadata": {},
   "outputs": [],
   "source": [
    "a=1+2j\n",
    "print(\"Value in 'a' is {} and it's data type is {}\".format(a,type(a)))"
   ]
  },
  {
   "cell_type": "code",
   "execution_count": null,
   "metadata": {},
   "outputs": [],
   "source": [
    "# write a program to print every character in new line\n",
    "\n",
    "a=\"Rohit\"\n",
    "for i in a:\n",
    "    print(i)"
   ]
  },
  {
   "cell_type": "code",
   "execution_count": null,
   "metadata": {},
   "outputs": [],
   "source": [
    "# write a program to print every integer in new line without using any for loop (Recursion concept)\n",
    "\n",
    "def fun(n,i=1):\n",
    "    if i <=n:\n",
    "        print(i)\n",
    "        fun(n,i+1)\n",
    "\n",
    "fun(5)"
   ]
  },
  {
   "cell_type": "code",
   "execution_count": null,
   "metadata": {},
   "outputs": [],
   "source": [
    "# write a program to print every integer in new line with using for loop\n",
    "def func(n):\n",
    "    for i in range(n):\n",
    "        print(i+1)\n",
    "\n",
    "\n",
    "n=5\n",
    "func(n)"
   ]
  },
  {
   "cell_type": "code",
   "execution_count": null,
   "metadata": {},
   "outputs": [],
   "source": [
    "# write a program to print every character in new line with using for loop\n",
    "\n",
    "def name(n):\n",
    "    for i in n:\n",
    "        print(i)\n",
    "\n",
    "n=\"rohit\"\n",
    "name(n)"
   ]
  },
  {
   "cell_type": "code",
   "execution_count": null,
   "metadata": {},
   "outputs": [],
   "source": [
    "# write a program to print every integer in new line without using any for loop (Recursion concept)\n",
    "\n",
    "def name(n,i=0):\n",
    "    if i < len(n):\n",
    "        print(n[i])\n",
    "        name(n,i+1)\n",
    "\n",
    "n=\"rohit\"\n",
    "name(n)"
   ]
  },
  {
   "cell_type": "code",
   "execution_count": null,
   "metadata": {},
   "outputs": [],
   "source": [
    "#write python program to print the lenth of string with using len function\n",
    "\n",
    "test=\"Rohit Shrimangle\"\n",
    "print(len(test))"
   ]
  },
  {
   "cell_type": "code",
   "execution_count": null,
   "metadata": {},
   "outputs": [],
   "source": [
    "#write python program to print the lenth of string without using len function\n",
    "\n",
    "def func(test1):\n",
    "    count=0\n",
    "\n",
    "    for i in test1:\n",
    "        count=count+1\n",
    "    return count\n",
    "\n",
    "test1=\"Machine Learning\"\n",
    "print(func(test1))\n"
   ]
  },
  {
   "cell_type": "code",
   "execution_count": null,
   "metadata": {},
   "outputs": [],
   "source": [
    "def func(test2):\n",
    "    count=0\n",
    "\n",
    "    for i in test2:\n",
    "        count+=1\n",
    "    return count\n",
    "\n",
    "test2=\"Practise\"\n",
    "print(func(test2))"
   ]
  },
  {
   "cell_type": "code",
   "execution_count": null,
   "metadata": {},
   "outputs": [],
   "source": [
    "def func(test3):\n",
    "    count=0\n",
    "\n",
    "    for i in test3:\n",
    "        count=count+1\n",
    "    return count\n",
    "\n",
    "test3='Python practise'\n",
    "print(func(test3))"
   ]
  },
  {
   "cell_type": "code",
   "execution_count": null,
   "metadata": {},
   "outputs": [],
   "source": [
    "test11='one'\n",
    "count=0\n",
    "for i in test11:\n",
    "    count=count+1\n",
    "\n",
    "print(count)"
   ]
  },
  {
   "cell_type": "code",
   "execution_count": null,
   "metadata": {},
   "outputs": [],
   "source": [
    "test22='two'\n",
    "count=0\n",
    "for i in test22:\n",
    "    count=count+1\n",
    "    \n",
    "print(count)"
   ]
  },
  {
   "cell_type": "code",
   "execution_count": null,
   "metadata": {},
   "outputs": [],
   "source": [
    "test33='three'\n",
    "count=0\n",
    "for i in test33:\n",
    "    count=count+1\n",
    "\n",
    "\n",
    "print(count)"
   ]
  },
  {
   "cell_type": "code",
   "execution_count": null,
   "metadata": {},
   "outputs": [],
   "source": [
    "test44='four'\n",
    "count=0\n",
    "for i in test44:\n",
    "    count=count+1\n",
    "    \n",
    "\n",
    "print(count)"
   ]
  },
  {
   "cell_type": "code",
   "execution_count": null,
   "metadata": {},
   "outputs": [],
   "source": [
    "test55='five'\n",
    "count=0\n",
    "for i in test55:\n",
    "    count+=1\n",
    "\n",
    "print(count)"
   ]
  },
  {
   "cell_type": "code",
   "execution_count": null,
   "metadata": {},
   "outputs": [],
   "source": [
    "test66='Six'\n",
    "count=0\n",
    "\n",
    "for i in test66:\n",
    "    count+=1\n",
    "\n",
    "print(count)"
   ]
  },
  {
   "cell_type": "code",
   "execution_count": null,
   "metadata": {},
   "outputs": [],
   "source": [
    "test77='seven'\n",
    "count=0\n",
    "for i in test77:\n",
    "    count+=1\n",
    "\n",
    "print(count)"
   ]
  },
  {
   "cell_type": "code",
   "execution_count": null,
   "metadata": {},
   "outputs": [],
   "source": [
    "test88='eight'\n",
    "count=0\n",
    "for i in test88:\n",
    "    count+=1\n",
    "\n",
    "print(count)"
   ]
  },
  {
   "cell_type": "code",
   "execution_count": null,
   "metadata": {},
   "outputs": [],
   "source": [
    "test99='nine'\n",
    "count=0\n",
    "for i in test99:\n",
    "    count=count+1\n",
    "\n",
    "print(count)"
   ]
  },
  {
   "cell_type": "code",
   "execution_count": null,
   "metadata": {},
   "outputs": [],
   "source": [
    "test10='ten'\n",
    "count=0\n",
    "for i in test10:\n",
    "    count+=1\n",
    "\n",
    "print(count)"
   ]
  },
  {
   "cell_type": "code",
   "execution_count": null,
   "metadata": {},
   "outputs": [],
   "source": [
    "rohit=\"study hard\"\n",
    "\n",
    "\"hard\" in rohit"
   ]
  },
  {
   "cell_type": "code",
   "execution_count": null,
   "metadata": {},
   "outputs": [],
   "source": [
    "# write a program to find vowels and consonants\n",
    "\n",
    "str=\"Rohit Shrimangle\"\n",
    "\n",
    "vowels=\"AEIOUaeiou\"\n",
    "consonants=\"ABCDEFGHIJKLMNOPQRSTUVWXYZabcdefghijklmnopqrstuvwxyz\"\n",
    "space=\" \"\n",
    "v=0\n",
    "c=0\n",
    "s=0\n",
    "\n",
    "vowel_char=[]\n",
    "consonants_char=[]\n",
    "spaces=[]\n",
    "\n",
    "for i in str:\n",
    "    if i in vowels:\n",
    "        v+=1\n",
    "        vowel_char.append(i)\n",
    "        \n",
    "    elif i in consonants:\n",
    "        c+=1\n",
    "        consonants_char.append(i)\n",
    "        \n",
    "    elif i in space:\n",
    "        s+=1\n",
    "        \n",
    "\n",
    "print('vowels:',v,\"->\",vowel_char)\n",
    "print('consonants',c,\"->\",consonants_char)\n",
    "print('space',s,\"->\",spaces)"
   ]
  },
  {
   "cell_type": "code",
   "execution_count": null,
   "metadata": {},
   "outputs": [],
   "source": [
    "# write a python prog to count uppercase lowercase and special characheters in a given string\n",
    "\n",
    "str=\"Rohit is Studying Hard\"\n",
    "up=0\n",
    "lo=0\n",
    "sp=0\n",
    "\n",
    "for i in range(len(str)):\n",
    "    if(str[i].isupper()):\n",
    "        up+=1\n",
    "    elif(str[i].islower()):\n",
    "        lo=lo+1\n",
    "    else:\n",
    "        sp+=1\n",
    "\n",
    "print(len(str))\n",
    "print(up)\n",
    "print(lo)\n",
    "print(sp)\n",
    "\n"
   ]
  },
  {
   "cell_type": "code",
   "execution_count": null,
   "metadata": {},
   "outputs": [],
   "source": [
    "# write a program to delete all consonants from given string\n",
    "\n",
    "str1=\"hello, have a great day\"\n",
    "\n",
    "vo=\"aeiou\"\n",
    "\n",
    "str2=\"\"\n",
    "\n",
    "for i in (str1):\n",
    "    if i not in vo:\n",
    "        str2+=i\n",
    "print(str2)"
   ]
  },
  {
   "cell_type": "code",
   "execution_count": null,
   "metadata": {},
   "outputs": [],
   "source": [
    "strg=\"hello, have a great day\"\n",
    "\n",
    "vo='aeiou'\n",
    "strg2=''\n",
    "\n",
    "for i in strg:\n",
    "    if i not in vo:\n",
    "        strg2+=i\n",
    "\n",
    "print(strg2)"
   ]
  },
  {
   "cell_type": "code",
   "execution_count": null,
   "metadata": {},
   "outputs": [],
   "source": [
    "#delete 9th character\n",
    "a='rohitshrimangle'\n",
    "n=9\n",
    "b=a[0:n]\n",
    "c=a[n+1:]\n",
    "d=b+c\n",
    "d"
   ]
  },
  {
   "cell_type": "code",
   "execution_count": null,
   "metadata": {},
   "outputs": [],
   "source": [
    "#exchange the characters from string\n",
    "\n",
    "test1=\"Practise coding\"\n",
    "for i in test1:\n",
    "    a=test1[0]\n",
    "    b=test1[1:-1]\n",
    "    c=test1[-1]\n",
    "    d=c+b+a\n",
    "\n",
    "print(\"Print the first character\",a)\n",
    "print(\"Print the last character\",c)\n",
    "print(\"Exchange the first and last character:\",d)"
   ]
  },
  {
   "cell_type": "code",
   "execution_count": null,
   "metadata": {},
   "outputs": [],
   "source": [
    "#write a python program to count the occurance of each word\n",
    "\n",
    "test2='My name is rohit'\n",
    "\n",
    "count=0\n",
    "a=test2.split()\n",
    "b=list(set(a))\n",
    "dic={}\n",
    "\n",
    "for i in b:\n",
    "    #if i in occ:\n",
    "    #count=count+1\n",
    "    print(i,\":\",a.count(i))\n",
    "\n",
    "\n",
    "#print(len(test2))"
   ]
  },
  {
   "cell_type": "code",
   "execution_count": null,
   "metadata": {},
   "outputs": [],
   "source": [
    "print(len(test2))\n",
    "print(test2[6:])  #print last 10 character\n",
    "print(test2.upper())\n",
    "print(test2.lower())\n",
    "print(test2.capitalize())"
   ]
  },
  {
   "cell_type": "code",
   "execution_count": null,
   "metadata": {},
   "outputs": [],
   "source": [
    "#write a code to  swap commas and dots in a given string\n",
    "\n",
    "test3=\"101.02,300\"\n",
    "print(\"Original String:\",test3)\n",
    "a=test3.replace('.','@')\n",
    "#print(a)\n",
    "b=a.replace(\",\",\".\")\n",
    "#print(b)\n",
    "c=b.replace(\"@\",\",\")\n",
    "print(\"Swaped string  :\",c)"
   ]
  },
  {
   "cell_type": "code",
   "execution_count": null,
   "metadata": {},
   "outputs": [],
   "source": [
    "#write a python program to print the first repeated character in a string\n",
    "\n",
    "test4=\"rohit shroimangle\"\n",
    "\n",
    "repeated_char=None\n",
    "count=0\n",
    "\n",
    "for i in test4:\n",
    "    if test4.count(i)>1:\n",
    "        repeated_char=i\n",
    "        count=count+1\n",
    "        break\n",
    "if repeated_char:\n",
    "    print(\"Repeated character is:\",repeated_char)#,\"Count of Repeated character:\",count)\n",
    "else:\n",
    "    print('no repeated characters')\n",
    "\n",
    "## This code will give repeated character for first character means whichever character will come first if any character at 2nd index or onward repeat it will not consider in this code.\n",
    "## Eg: \"rohit shrimangle\" - correct      it will check for first char 'r'\n",
    "##     \"rohit oshrimangle\" - incorrect   it will check for first char 'r' only."
   ]
  },
  {
   "cell_type": "code",
   "execution_count": null,
   "metadata": {},
   "outputs": [],
   "source": [
    "s = input(\"Enter a string: \")\n",
    "seen = set()\n",
    "\n",
    "for char in s:\n",
    "    if char in seen:\n",
    "        print(f\"The first repeated character is: {char}\")\n",
    "        break\n",
    "    seen.add(char)\n",
    "else:\n",
    "    print(\"No repeated characters\")"
   ]
  },
  {
   "cell_type": "code",
   "execution_count": null,
   "metadata": {},
   "outputs": [],
   "source": [
    "\n",
    "# write a python program to find the repeated characters from a string and there count\n",
    "\n",
    "test5=\"banana\"\n",
    "\n",
    "empt_vable=None\n",
    "count=0\n",
    "\n",
    "for i in test5:\n",
    "    if test5.count(i)>1:\n",
    "        empt_vable=i\n",
    "        break\n",
    "if empt_vable:\n",
    "        print('repeated charac',empt_vable)\n",
    "else:\n",
    "     print(\"No repeatation\")\n",
    "\n",
    "## Wrong : Nice try"
   ]
  },
  {
   "cell_type": "code",
   "execution_count": null,
   "metadata": {},
   "outputs": [],
   "source": [
    "#write a python program to find the repeated characters from a string and there count\n",
    "\n",
    "\n",
    "from collections import Counter\n",
    "\n",
    "def find_repeated_chars(s):\n",
    "    char_count = Counter(s)  # Count occurrences of each character\n",
    "    repeated_chars = {char: count for char, count in char_count.items() if count > 1}\n",
    "    \n",
    "    return repeated_chars\n",
    "\n",
    "# Example usage\n",
    "string = \"programming in python\"\n",
    "repeated = find_repeated_chars(string)\n",
    "\n",
    "print(\"Repeated characters and their count:\")\n",
    "for char, count in repeated.items():\n",
    "    print(f\"'{char}': {count}\")\n"
   ]
  },
  {
   "cell_type": "code",
   "execution_count": null,
   "metadata": {},
   "outputs": [],
   "source": [
    "\n",
    "from collections import Counter\n",
    "\n",
    "def find_repeated_chars(s):\n",
    "    char_count = Counter(s)  # Count occurrences of each character\n",
    "    repeated_chars = {char: count for char, count in char_count.items() if count > 1}\n",
    "    \n",
    "    return repeated_chars\n",
    "\n",
    "# Example usage\n",
    "string = \"programming in python\"\n",
    "repeated = find_repeated_chars(string)\n",
    "\n",
    "print(\"Repeated characters and their count:\")\n",
    "for char, count in repeated.items():\n",
    "    print(f\"'{char}': {count}\")"
   ]
  },
  {
   "cell_type": "code",
   "execution_count": null,
   "metadata": {},
   "outputs": [],
   "source": [
    "from collections import Counter   #\n",
    "\n",
    "def find_repeated_chars(s):\n",
    "    char_count = Counter(s)  # Count occurrences of each character\n",
    "    repeated_chars = {char: count for char, count in char_count.items() if count > 1}\n",
    "    \n",
    "    return repeated_chars\n",
    "\n",
    "# Example usage\n",
    "string = \"programming in python\"\n",
    "repeated = find_repeated_chars(string)\n",
    "\n",
    "print(\"Repeated characters and their count:\")\n",
    "for char, count in repeated.items():\n",
    "    print(f\"'{char}': {count}\")"
   ]
  },
  {
   "cell_type": "code",
   "execution_count": null,
   "metadata": {},
   "outputs": [],
   "source": [
    "from collections import Counter\n",
    "data=[1,2,2,3,3,3,4,4,4,4]\n",
    "count_data=Counter(data)\n",
    "print(\"Count of elements in data:\")\n",
    "print(count_data)\n",
    "print(count_data.most_common(2))\n",
    "\n",
    "text=\"banana\"\n",
    "count=Counter(text)\n",
    "print(\"Count of characters in text:\")\n",
    "print(count)\n",
    "print(count.most_common(2))"
   ]
  },
  {
   "cell_type": "code",
   "execution_count": null,
   "metadata": {},
   "outputs": [],
   "source": [
    "from collections import Counter\n",
    "\n",
    "data=[1,2,2,3,3,3,4,4,4,4,5,5,5,5,5]\n",
    "count=Counter(data)\n",
    "print(\"count of elements in data:\")\n",
    "print(count)"
   ]
  },
  {
   "cell_type": "code",
   "execution_count": null,
   "metadata": {},
   "outputs": [],
   "source": [
    "# write a python program to check wheater the given number is prime number or not\n",
    "\n",
    "n=4\n",
    "if n>1:\n",
    "     for i in range(2,int(n**0.5)+1):\n",
    "          if n%i==0:\n",
    "            print(\"Not Prime number\")\n",
    "            break\n",
    "     else:\n",
    "         print('Prime')"
   ]
  },
  {
   "cell_type": "code",
   "execution_count": null,
   "metadata": {},
   "outputs": [],
   "source": [
    "#Python Program to find simple interest and compound interest?\n",
    "\n",
    "def calculate_simple_interest(principal, rate, time):\n",
    "    \"\"\"Function to calculate Simple Interest\"\"\"\n",
    "    si = (principal * rate * time) / 100\n",
    "    return si\n",
    "\n",
    "def calculate_compound_interest(principal, rate, time):\n",
    "    \"\"\"Function to calculate Compound Interest\"\"\"\n",
    "    ci = principal * ((1 + rate / 100) ** time) - principal\n",
    "    return ci\n",
    "\n",
    "# Taking user input\n",
    "P = 1000 #float(input(\"Enter Principal Amount: \"))\n",
    "R = 5 #float(input(\"Enter Annual Interest Rate (%): \"))\n",
    "T = 2 #float(input(\"Enter Time Period (in years): \"))\n",
    "\n",
    "# Calculating interests\n",
    "simple_interest = calculate_simple_interest(P, R, T)\n",
    "compound_interest = calculate_compound_interest(P, R, T)\n",
    "\n",
    "# Displaying results\n",
    "print(f\"\\nSimple Interest: {simple_interest:.2f}\")\n",
    "print(f\"Compound Interest: {compound_interest:.2f}\")\n"
   ]
  },
  {
   "cell_type": "code",
   "execution_count": null,
   "metadata": {},
   "outputs": [],
   "source": [
    "def si(principle,rate,time):\n",
    "    formula_si=(principle*rate*time)/100\n",
    "    return formula_si\n",
    "\n",
    "def ci(principle,rate,time):\n",
    "    formula_ci=principle*((1+rate/100)**time)-principle\n",
    "    return formula_ci\n",
    "\n",
    "P=1000\n",
    "R=5\n",
    "T=2\n",
    "\n",
    "find_simple_intrest=si(P,R,T)\n",
    "find_compoubd_intrest=ci(P,R,T)\n",
    "\n",
    "print(f\"\\nSimple Intrest: {find_simple_intrest:.2f}\")\n",
    "print(f\"Compound Intrest: {find_compoubd_intrest:.2f}\")"
   ]
  },
  {
   "cell_type": "code",
   "execution_count": null,
   "metadata": {},
   "outputs": [],
   "source": [
    "def find_simple_intrest(Principle,Rate,Time):\n",
    "    formula_simple_intrest=(Principle*Rate*Time)/100\n",
    "    return formula_simple_intrest\n",
    "\n",
    "def find_compound_intrest(Principle,Rate,Time):\n",
    "    formula_compound_intrest=Principle*((1+Rate/100)**Time)-Principle\n",
    "    return formula_compound_intrest\n",
    "\n",
    "P= int(input(\"Enter the principle amt: \"))\n",
    "R=int(input(\"Enter rate of interest: \"))\n",
    "T=int(input(\"enter the time: \"))\n",
    "\n",
    "Find_SI=find_simple_intrest(P,R,T)\n",
    "Find_CI=find_compound_intrest(P,R,T)\n",
    "\n",
    "print(f\"\\nSimple Intrest: {Find_SI:}\")\n",
    "print(f\"Compound Intrest: {Find_CI:}\")"
   ]
  },
  {
   "cell_type": "code",
   "execution_count": null,
   "metadata": {},
   "outputs": [],
   "source": [
    "import time\n",
    "import random\n",
    "\n",
    "def coffee_menu():\n",
    "    print(\"\\nWelcome to Python Café! ☕\")\n",
    "    print(\"Here's our menu:\")\n",
    "    print(\"1. Espresso\")\n",
    "    print(\"2. Cappuccino\")\n",
    "    print(\"3. Latte\")\n",
    "    print(\"4. Mocha\")\n",
    "    print(\"5. Black Coffee\")\n",
    "    \n",
    "    choice = input(\"\\nWhat would you like to order? (Enter a number): \")\n",
    "    \n",
    "    coffee_types = {\n",
    "        \"1\": \"Espresso\",\n",
    "        \"2\": \"Cappuccino\",\n",
    "        \"3\": \"Latte\",\n",
    "        \"4\": \"Mocha\",\n",
    "        \"5\": \"Black Coffee\"\n",
    "    }\n",
    "    \n",
    "    if choice not in coffee_types:\n",
    "        print(\"\\nSorry, we don't serve that. How about a nice cup of water? 💧😆\")\n",
    "        return\n",
    "    \n",
    "    coffee = coffee_types[choice]\n",
    "    \n",
    "    print(f\"\\nGreat choice! A {coffee} coming right up. ☕\")\n",
    "    \n",
    "    extras = []\n",
    "    print(\"\\nWould you like to add any extras?\")\n",
    "    print(\"1. Milk 🥛\")\n",
    "    print(\"2. Sugar 🍬\")\n",
    "    print(\"3. Whipped Cream 🍦\")\n",
    "    print(\"4. Chocolate Syrup 🍫\")\n",
    "    print(\"5. No extras, just coffee!\")\n",
    "    \n",
    "    while True:\n",
    "        extra_choice = input(\"\\nChoose an extra (or type 'done' to finish): \")\n",
    "        extra_options = {\n",
    "            \"1\": \"Milk\",\n",
    "            \"2\": \"Sugar\",\n",
    "            \"3\": \"Whipped Cream\",\n",
    "            \"4\": \"Chocolate Syrup\"\n",
    "        }\n",
    "        \n",
    "        if extra_choice.lower() == \"done\":\n",
    "            break\n",
    "        \n",
    "        if extra_choice in extra_options and extra_options[extra_choice] not in extras:\n",
    "            extras.append(extra_options[extra_choice])\n",
    "            print(f\"Added {extra_options[extra_choice]}! ✅\")\n",
    "        elif extra_choice in extra_options:\n",
    "            print(\"You've already added that! 😆\")\n",
    "        else:\n",
    "            print(\"Invalid choice. Try again!\")\n",
    "\n",
    "    print(\"\\nBrewing your coffee... ☕⏳\")\n",
    "    time.sleep(2)  \n",
    "    print(\"\\nHere you go! Your delicious\", coffee, \"with\", \", \".join(extras) if extras else \"no extras\", \"is ready! 🎉\")\n",
    "    \n",
    "    fun_facts = [\n",
    "        \"Did you know? The world's most expensive coffee comes from beans eaten and pooped by civet cats! 🐱💩\",\n",
    "        \"Coffee beans are actually seeds, not beans! 🌱\",\n",
    "        \"Caffeine boosts memory, alertness, and even reaction time! ⚡\",\n",
    "        \"Espresso means 'pressed out' in Italian, which refers to how it's made! 🇮🇹\",\n",
    "        \"The smell of coffee alone can help you wake up! ☕👃\"\n",
    "    ]\n",
    "    \n",
    "    print(\"\\nFun Fact: \" + random.choice(fun_facts))\n",
    "\n",
    "coffee_menu()\n"
   ]
  },
  {
   "cell_type": "code",
   "execution_count": 24,
   "metadata": {},
   "outputs": [
    {
     "name": "stdout",
     "output_type": "stream",
     "text": [
      "\n",
      "Welcome to Rohit's Python cafe! ☕\n",
      "\n",
      " Here's our menu:\n",
      "1. Espresso\n",
      "2. cappuccino\n",
      "3. Latte\n",
      "4. Mocha\n",
      "5. Black coffee\n",
      "\n",
      "Great choice! A {coffee} coming right up. ☕\n",
      "\n",
      "Would you like to add any extras?\n",
      "1. Milk 🥛\n",
      "2. Sugar 🍬\n",
      "3. Whipped Cream 🍦\n",
      "4. Chocolate Syrup 🍫\n",
      "5. No extras, just coffee!\n"
     ]
    }
   ],
   "source": [
    "import time\n",
    "import random\n",
    "\n",
    "def coffee_menu():\n",
    "    print(\"\\nWelcome to Rohit's Python cafe! ☕\")\n",
    "    print(\"\\n Here's our menu:\")\n",
    "    print(\"1. Espresso\")\n",
    "    print(\"2. cappuccino\")\n",
    "    print(\"3. Latte\")\n",
    "    print(\"4. Mocha\")\n",
    "    print(\"5. Black coffee\")\n",
    "\n",
    "\n",
    "    choise=input(\"\\nWhat you would like to order?: \")\n",
    "\n",
    "    coffee_types={\n",
    "        \"1\": \"Espresso\",\n",
    "        \"2\": \"cappuccino\",\n",
    "        \"3\": \"Latte\",\n",
    "        \"4\": \"Mocha\",\n",
    "        \"5\": \"Black coffee\"\n",
    "    }\n",
    "\n",
    "    if choise not in coffee_types:\n",
    "        print(\"\\nSorry, we don't serve that. How about a nice cup of water? 💧😆\")\n",
    "        return\n",
    "    \n",
    "    coffee=coffee_types[choise]\n",
    "\n",
    "    print(\"\\nGreat choice! A {coffee} coming right up. ☕\")\n",
    "\n",
    "    extras=[]\n",
    "    print(\"\\nWould you like to add any extras?\")\n",
    "    print(\"1. Milk 🥛\")\n",
    "    print(\"2. Sugar 🍬\")\n",
    "    print(\"3. Whipped Cream 🍦\")\n",
    "    print(\"4. Chocolate Syrup 🍫\")\n",
    "    print(\"5. No extras, just coffee!\")\n",
    "\n",
    "    \n",
    "\n",
    "coffee_menu()\n"
   ]
  },
  {
   "cell_type": "code",
   "execution_count": null,
   "metadata": {},
   "outputs": [],
   "source": []
  },
  {
   "cell_type": "code",
   "execution_count": null,
   "metadata": {},
   "outputs": [],
   "source": []
  },
  {
   "cell_type": "code",
   "execution_count": null,
   "metadata": {},
   "outputs": [],
   "source": []
  },
  {
   "cell_type": "code",
   "execution_count": null,
   "metadata": {},
   "outputs": [],
   "source": []
  }
 ],
 "metadata": {
  "kernelspec": {
   "display_name": "base",
   "language": "python",
   "name": "python3"
  },
  "language_info": {
   "codemirror_mode": {
    "name": "ipython",
    "version": 3
   },
   "file_extension": ".py",
   "mimetype": "text/x-python",
   "name": "python",
   "nbconvert_exporter": "python",
   "pygments_lexer": "ipython3",
   "version": "3.12.4"
  }
 },
 "nbformat": 4,
 "nbformat_minor": 2
}
