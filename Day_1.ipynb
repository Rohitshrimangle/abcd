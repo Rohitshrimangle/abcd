{
 "cells": [
  {
   "cell_type": "code",
   "execution_count": 1,
   "metadata": {},
   "outputs": [
    {
     "data": {
      "text/plain": [
       "3"
      ]
     },
     "execution_count": 1,
     "metadata": {},
     "output_type": "execute_result"
    }
   ],
   "source": [
    "# Test cell\n",
    "\n",
    "a=1\n",
    "b=2\n",
    "c=a+b\n",
    "c"
   ]
  },
  {
   "cell_type": "code",
   "execution_count": 2,
   "metadata": {},
   "outputs": [
    {
     "name": "stdout",
     "output_type": "stream",
     "text": [
      "Value in 'a' is (1+2j) and it's data type is <class 'complex'>\n"
     ]
    }
   ],
   "source": [
    "a=1+2j\n",
    "print(\"Value in 'a' is {} and it's data type is {}\".format(a,type(a)))"
   ]
  },
  {
   "cell_type": "code",
   "execution_count": 3,
   "metadata": {},
   "outputs": [
    {
     "name": "stdout",
     "output_type": "stream",
     "text": [
      "R\n",
      "o\n",
      "h\n",
      "i\n",
      "t\n"
     ]
    }
   ],
   "source": [
    "# write a program to print every character in new line\n",
    "\n",
    "a=\"Rohit\"\n",
    "for i in a:\n",
    "    print(i)"
   ]
  },
  {
   "cell_type": "code",
   "execution_count": 4,
   "metadata": {},
   "outputs": [
    {
     "name": "stdout",
     "output_type": "stream",
     "text": [
      "1\n",
      "2\n",
      "3\n",
      "4\n",
      "5\n"
     ]
    }
   ],
   "source": [
    "# write a program to print every integer in new line without using any for loop (Recursion concept)\n",
    "\n",
    "def fun(n,i=1):\n",
    "    if i <=n:\n",
    "        print(i)\n",
    "        fun(n,i+1)\n",
    "\n",
    "fun(5)"
   ]
  },
  {
   "cell_type": "code",
   "execution_count": 5,
   "metadata": {},
   "outputs": [
    {
     "name": "stdout",
     "output_type": "stream",
     "text": [
      "1\n",
      "2\n",
      "3\n",
      "4\n",
      "5\n"
     ]
    }
   ],
   "source": [
    "# write a program to print every integer in new line with using for loop\n",
    "def func(n):\n",
    "    for i in range(n):\n",
    "        print(i+1)\n",
    "\n",
    "\n",
    "n=5\n",
    "func(n)"
   ]
  },
  {
   "cell_type": "code",
   "execution_count": 6,
   "metadata": {},
   "outputs": [
    {
     "name": "stdout",
     "output_type": "stream",
     "text": [
      "r\n",
      "o\n",
      "h\n",
      "i\n",
      "t\n"
     ]
    }
   ],
   "source": [
    "# write a program to print every character in new line with using for loop\n",
    "\n",
    "def name(n):\n",
    "    for i in n:\n",
    "        print(i)\n",
    "\n",
    "n=\"rohit\"\n",
    "name(n)"
   ]
  },
  {
   "cell_type": "code",
   "execution_count": 7,
   "metadata": {},
   "outputs": [
    {
     "name": "stdout",
     "output_type": "stream",
     "text": [
      "r\n",
      "o\n",
      "h\n",
      "i\n",
      "t\n"
     ]
    }
   ],
   "source": [
    "# write a program to print every integer in new line without using any for loop (Recursion concept)\n",
    "\n",
    "def name(n,i=0):\n",
    "    if i < len(n):\n",
    "        print(n[i])\n",
    "        name(n,i+1)\n",
    "\n",
    "n=\"rohit\"\n",
    "name(n)"
   ]
  },
  {
   "cell_type": "code",
   "execution_count": 8,
   "metadata": {},
   "outputs": [
    {
     "name": "stdout",
     "output_type": "stream",
     "text": [
      "16\n"
     ]
    }
   ],
   "source": [
    "#write python program to print the lenth of string with using len function\n",
    "\n",
    "test=\"Rohit Shrimangle\"\n",
    "print(len(test))"
   ]
  },
  {
   "cell_type": "code",
   "execution_count": 9,
   "metadata": {},
   "outputs": [
    {
     "name": "stdout",
     "output_type": "stream",
     "text": [
      "16\n"
     ]
    }
   ],
   "source": [
    "#write python program to print the lenth of string without using len function\n",
    "\n",
    "def func(test1):\n",
    "    count=0\n",
    "\n",
    "    for i in test1:\n",
    "        count=count+1\n",
    "    return count\n",
    "\n",
    "test1=\"Machine Learning\"\n",
    "print(func(test1))\n"
   ]
  },
  {
   "cell_type": "code",
   "execution_count": 10,
   "metadata": {},
   "outputs": [
    {
     "name": "stdout",
     "output_type": "stream",
     "text": [
      "8\n"
     ]
    }
   ],
   "source": [
    "def func(test2):\n",
    "    count=0\n",
    "\n",
    "    for i in test2:\n",
    "        count+=1\n",
    "    return count\n",
    "\n",
    "test2=\"Practise\"\n",
    "print(func(test2))"
   ]
  },
  {
   "cell_type": "code",
   "execution_count": 11,
   "metadata": {},
   "outputs": [
    {
     "name": "stdout",
     "output_type": "stream",
     "text": [
      "15\n"
     ]
    }
   ],
   "source": [
    "def func(test3):\n",
    "    count=0\n",
    "\n",
    "    for i in test3:\n",
    "        count=count+1\n",
    "    return count\n",
    "\n",
    "test3='Python practise'\n",
    "print(func(test3))"
   ]
  },
  {
   "cell_type": "code",
   "execution_count": 12,
   "metadata": {},
   "outputs": [
    {
     "name": "stdout",
     "output_type": "stream",
     "text": [
      "3\n"
     ]
    }
   ],
   "source": [
    "test11='one'\n",
    "count=0\n",
    "for i in test11:\n",
    "    count=count+1\n",
    "\n",
    "print(count)"
   ]
  },
  {
   "cell_type": "code",
   "execution_count": 13,
   "metadata": {},
   "outputs": [
    {
     "name": "stdout",
     "output_type": "stream",
     "text": [
      "3\n"
     ]
    }
   ],
   "source": [
    "test22='two'\n",
    "count=0\n",
    "for i in test22:\n",
    "    count=count+1\n",
    "    \n",
    "print(count)"
   ]
  },
  {
   "cell_type": "code",
   "execution_count": 14,
   "metadata": {},
   "outputs": [
    {
     "name": "stdout",
     "output_type": "stream",
     "text": [
      "5\n"
     ]
    }
   ],
   "source": [
    "test33='three'\n",
    "count=0\n",
    "for i in test33:\n",
    "    count=count+1\n",
    "\n",
    "\n",
    "print(count)"
   ]
  },
  {
   "cell_type": "code",
   "execution_count": 15,
   "metadata": {},
   "outputs": [
    {
     "name": "stdout",
     "output_type": "stream",
     "text": [
      "4\n"
     ]
    }
   ],
   "source": [
    "test44='four'\n",
    "count=0\n",
    "for i in test44:\n",
    "    count=count+1\n",
    "    \n",
    "\n",
    "print(count)"
   ]
  },
  {
   "cell_type": "code",
   "execution_count": 16,
   "metadata": {},
   "outputs": [
    {
     "name": "stdout",
     "output_type": "stream",
     "text": [
      "4\n"
     ]
    }
   ],
   "source": [
    "test55='five'\n",
    "count=0\n",
    "for i in test55:\n",
    "    count+=1\n",
    "\n",
    "print(count)"
   ]
  },
  {
   "cell_type": "code",
   "execution_count": 17,
   "metadata": {},
   "outputs": [
    {
     "name": "stdout",
     "output_type": "stream",
     "text": [
      "3\n"
     ]
    }
   ],
   "source": [
    "test66='Six'\n",
    "count=0\n",
    "\n",
    "for i in test66:\n",
    "    count+=1\n",
    "\n",
    "print(count)"
   ]
  },
  {
   "cell_type": "code",
   "execution_count": 18,
   "metadata": {},
   "outputs": [
    {
     "name": "stdout",
     "output_type": "stream",
     "text": [
      "5\n"
     ]
    }
   ],
   "source": [
    "test77='seven'\n",
    "count=0\n",
    "for i in test77:\n",
    "    count+=1\n",
    "\n",
    "print(count)"
   ]
  },
  {
   "cell_type": "code",
   "execution_count": 19,
   "metadata": {},
   "outputs": [
    {
     "name": "stdout",
     "output_type": "stream",
     "text": [
      "5\n"
     ]
    }
   ],
   "source": [
    "test88='eight'\n",
    "count=0\n",
    "for i in test88:\n",
    "    count+=1\n",
    "\n",
    "print(count)"
   ]
  },
  {
   "cell_type": "code",
   "execution_count": 20,
   "metadata": {},
   "outputs": [
    {
     "name": "stdout",
     "output_type": "stream",
     "text": [
      "4\n"
     ]
    }
   ],
   "source": [
    "test99='nine'\n",
    "count=0\n",
    "for i in test99:\n",
    "    count=count+1\n",
    "\n",
    "print(count)"
   ]
  },
  {
   "cell_type": "code",
   "execution_count": 21,
   "metadata": {},
   "outputs": [
    {
     "name": "stdout",
     "output_type": "stream",
     "text": [
      "3\n"
     ]
    }
   ],
   "source": [
    "test10='ten'\n",
    "count=0\n",
    "for i in test10:\n",
    "    count+=1\n",
    "\n",
    "print(count)"
   ]
  },
  {
   "cell_type": "code",
   "execution_count": 22,
   "metadata": {},
   "outputs": [
    {
     "data": {
      "text/plain": [
       "True"
      ]
     },
     "execution_count": 22,
     "metadata": {},
     "output_type": "execute_result"
    }
   ],
   "source": [
    "rohit=\"study hard\"\n",
    "\n",
    "\"hard\" in rohit"
   ]
  },
  {
   "cell_type": "code",
   "execution_count": 23,
   "metadata": {},
   "outputs": [
    {
     "name": "stdout",
     "output_type": "stream",
     "text": [
      "vowels: 5 -> ['o', 'i', 'i', 'a', 'e']\n",
      "consonants 10 -> ['R', 'h', 't', 'S', 'h', 'r', 'm', 'n', 'g', 'l']\n",
      "space 1 -> []\n"
     ]
    }
   ],
   "source": [
    "# write a program to find vowels and consonants\n",
    "\n",
    "str=\"Rohit Shrimangle\"\n",
    "\n",
    "vowels=\"AEIOUaeiou\"\n",
    "consonants=\"ABCDEFGHIJKLMNOPQRSTUVWXYZabcdefghijklmnopqrstuvwxyz\"\n",
    "space=\" \"\n",
    "v=0\n",
    "c=0\n",
    "s=0\n",
    "\n",
    "vowel_char=[]\n",
    "consonants_char=[]\n",
    "spaces=[]\n",
    "\n",
    "for i in str:\n",
    "    if i in vowels:\n",
    "        v+=1\n",
    "        vowel_char.append(i)\n",
    "        \n",
    "    elif i in consonants:\n",
    "        c+=1\n",
    "        consonants_char.append(i)\n",
    "        \n",
    "    elif i in space:\n",
    "        s+=1\n",
    "        \n",
    "\n",
    "print('vowels:',v,\"->\",vowel_char)\n",
    "print('consonants',c,\"->\",consonants_char)\n",
    "print('space',s,\"->\",spaces)"
   ]
  },
  {
   "cell_type": "code",
   "execution_count": 24,
   "metadata": {},
   "outputs": [
    {
     "name": "stdout",
     "output_type": "stream",
     "text": [
      "22\n",
      "3\n",
      "16\n",
      "3\n"
     ]
    }
   ],
   "source": [
    "# write a python prog to count uppercase lowercase and special characheters in a given string\n",
    "\n",
    "str=\"Rohit is Studying Hard\"\n",
    "up=0\n",
    "lo=0\n",
    "sp=0\n",
    "\n",
    "for i in range(len(str)):\n",
    "    if(str[i].isupper()):\n",
    "        up+=1\n",
    "    elif(str[i].islower()):\n",
    "        lo=lo+1\n",
    "    else:\n",
    "        sp+=1\n",
    "\n",
    "print(len(str))\n",
    "print(up)\n",
    "print(lo)\n",
    "print(sp)\n",
    "\n"
   ]
  },
  {
   "cell_type": "code",
   "execution_count": 25,
   "metadata": {},
   "outputs": [
    {
     "name": "stdout",
     "output_type": "stream",
     "text": [
      "hll, hv  grt dy\n"
     ]
    }
   ],
   "source": [
    "# write a program to delete all consonants from given string\n",
    "\n",
    "str1=\"hello, have a great day\"\n",
    "\n",
    "vo=\"aeiou\"\n",
    "\n",
    "str2=\"\"\n",
    "\n",
    "for i in (str1):\n",
    "    if i not in vo:\n",
    "        str2+=i\n",
    "print(str2)"
   ]
  },
  {
   "cell_type": "code",
   "execution_count": 26,
   "metadata": {},
   "outputs": [
    {
     "name": "stdout",
     "output_type": "stream",
     "text": [
      "hll, hv  grt dy\n"
     ]
    }
   ],
   "source": [
    "strg=\"hello, have a great day\"\n",
    "\n",
    "vo='aeiou'\n",
    "strg2=''\n",
    "\n",
    "for i in strg:\n",
    "    if i not in vo:\n",
    "        strg2+=i\n",
    "\n",
    "print(strg2)"
   ]
  },
  {
   "cell_type": "code",
   "execution_count": 27,
   "metadata": {},
   "outputs": [
    {
     "data": {
      "text/plain": [
       "'rohitshriangle'"
      ]
     },
     "execution_count": 27,
     "metadata": {},
     "output_type": "execute_result"
    }
   ],
   "source": [
    "#delete 9th character\n",
    "a='rohitshrimangle'\n",
    "n=9\n",
    "b=a[0:n]\n",
    "c=a[n+1:]\n",
    "d=b+c\n",
    "d"
   ]
  },
  {
   "cell_type": "code",
   "execution_count": 28,
   "metadata": {},
   "outputs": [
    {
     "name": "stdout",
     "output_type": "stream",
     "text": [
      "Print the first character P\n",
      "Print the last character g\n",
      "Exchange the first and last character: gractise codinP\n"
     ]
    }
   ],
   "source": [
    "#exchange the characters from string\n",
    "\n",
    "test1=\"Practise coding\"\n",
    "for i in test1:\n",
    "    a=test1[0]\n",
    "    b=test1[1:-1]\n",
    "    c=test1[-1]\n",
    "    d=c+b+a\n",
    "\n",
    "print(\"Print the first character\",a)\n",
    "print(\"Print the last character\",c)\n",
    "print(\"Exchange the first and last character:\",d)"
   ]
  },
  {
   "cell_type": "code",
   "execution_count": 29,
   "metadata": {},
   "outputs": [
    {
     "name": "stdout",
     "output_type": "stream",
     "text": [
      "name : 1\n",
      "is : 1\n",
      "rohit : 1\n",
      "My : 1\n"
     ]
    }
   ],
   "source": [
    "#write a python program to count the occurance of each word\n",
    "\n",
    "test2='My name is rohit'\n",
    "\n",
    "count=0\n",
    "a=test2.split()\n",
    "b=list(set(a))\n",
    "dic={}\n",
    "\n",
    "for i in b:\n",
    "    #if i in occ:\n",
    "    #count=count+1\n",
    "    print(i,\":\",a.count(i))\n",
    "\n",
    "\n",
    "#print(len(test2))"
   ]
  },
  {
   "cell_type": "code",
   "execution_count": 30,
   "metadata": {},
   "outputs": [
    {
     "name": "stdout",
     "output_type": "stream",
     "text": [
      "16\n",
      "e is rohit\n",
      "MY NAME IS ROHIT\n",
      "my name is rohit\n",
      "My name is rohit\n"
     ]
    }
   ],
   "source": [
    "print(len(test2))\n",
    "print(test2[6:])  #print last 10 character\n",
    "print(test2.upper())\n",
    "print(test2.lower())\n",
    "print(test2.capitalize())"
   ]
  },
  {
   "cell_type": "code",
   "execution_count": 32,
   "metadata": {},
   "outputs": [
    {
     "name": "stdout",
     "output_type": "stream",
     "text": [
      "Original String: 101.02,300\n",
      "Swaped string  : 101,02.300\n"
     ]
    }
   ],
   "source": [
    "#write a code to  swap commas and dots in a given string\n",
    "\n",
    "test3=\"101.02,300\"\n",
    "print(\"Original String:\",test3)\n",
    "a=test3.replace('.','@')\n",
    "#print(a)\n",
    "b=a.replace(\",\",\".\")\n",
    "#print(b)\n",
    "c=b.replace(\"@\",\",\")\n",
    "print(\"Swaped string  :\",c)"
   ]
  },
  {
   "cell_type": "code",
   "execution_count": 33,
   "metadata": {},
   "outputs": [
    {
     "name": "stdout",
     "output_type": "stream",
     "text": [
      "Repeated character is: r\n"
     ]
    }
   ],
   "source": [
    "#write a python program to print the first repeated character in a string\n",
    "\n",
    "test4=\"rohit shroimangle\"\n",
    "\n",
    "repeated_char=None\n",
    "count=0\n",
    "\n",
    "for i in test4:\n",
    "    if test4.count(i)>1:\n",
    "        repeated_char=i\n",
    "        count=count+1\n",
    "        break\n",
    "if repeated_char:\n",
    "    print(\"Repeated character is:\",repeated_char)#,\"Count of Repeated character:\",count)\n",
    "else:\n",
    "    print('no repeated characters')\n",
    "\n",
    "## This code will give repeated character for first character means whichever character will come first if any character at 2nd index or onward repeat it will not consider in this code.\n",
    "## Eg: \"rohit shrimangle\" - correct      it will check for first char 'r'\n",
    "##     \"rohit oshrimangle\" - incorrect   it will check for first char 'r' only."
   ]
  },
  {
   "cell_type": "code",
   "execution_count": 34,
   "metadata": {},
   "outputs": [
    {
     "name": "stdout",
     "output_type": "stream",
     "text": [
      "No repeated characters\n"
     ]
    }
   ],
   "source": [
    "s = input(\"Enter a string: \")\n",
    "seen = set()\n",
    "\n",
    "for char in s:\n",
    "    if char in seen:\n",
    "        print(f\"The first repeated character is: {char}\")\n",
    "        break\n",
    "    seen.add(char)\n",
    "else:\n",
    "    print(\"No repeated characters\")"
   ]
  },
  {
   "cell_type": "code",
   "execution_count": 35,
   "metadata": {},
   "outputs": [
    {
     "name": "stdout",
     "output_type": "stream",
     "text": [
      "repeated charac a\n"
     ]
    }
   ],
   "source": [
    "\n",
    "# write a python program to find the repeated characters from a string and there count\n",
    "\n",
    "test5=\"banana\"\n",
    "\n",
    "empt_vable=None\n",
    "count=0\n",
    "\n",
    "for i in test5:\n",
    "    if test5.count(i)>1:\n",
    "        empt_vable=i\n",
    "        break\n",
    "if empt_vable:\n",
    "        print('repeated charac',empt_vable)\n",
    "else:\n",
    "     print(\"No repeatation\")\n",
    "\n",
    "## Wrong : Nice try"
   ]
  },
  {
   "cell_type": "code",
   "execution_count": 36,
   "metadata": {},
   "outputs": [
    {
     "name": "stdout",
     "output_type": "stream",
     "text": [
      "Repeated characters and their count:\n",
      "'p': 2\n",
      "'r': 2\n",
      "'o': 2\n",
      "'g': 2\n",
      "'m': 2\n",
      "'i': 2\n",
      "'n': 3\n",
      "' ': 2\n"
     ]
    }
   ],
   "source": [
    "#write a python program to find the repeated characters from a string and there count\n",
    "\n",
    "\n",
    "from collections import Counter\n",
    "\n",
    "def find_repeated_chars(s):\n",
    "    char_count = Counter(s)  # Count occurrences of each character\n",
    "    repeated_chars = {char: count for char, count in char_count.items() if count > 1}\n",
    "    \n",
    "    return repeated_chars\n",
    "\n",
    "# Example usage\n",
    "string = \"programming in python\"\n",
    "repeated = find_repeated_chars(string)\n",
    "\n",
    "print(\"Repeated characters and their count:\")\n",
    "for char, count in repeated.items():\n",
    "    print(f\"'{char}': {count}\")\n"
   ]
  },
  {
   "cell_type": "code",
   "execution_count": 37,
   "metadata": {},
   "outputs": [
    {
     "name": "stdout",
     "output_type": "stream",
     "text": [
      "Repeated characters and their count:\n",
      "'p': 2\n",
      "'r': 2\n",
      "'o': 2\n",
      "'g': 2\n",
      "'m': 2\n",
      "'i': 2\n",
      "'n': 3\n",
      "' ': 2\n"
     ]
    }
   ],
   "source": [
    "\n",
    "from collections import Counter\n",
    "\n",
    "def find_repeated_chars(s):\n",
    "    char_count = Counter(s)  # Count occurrences of each character\n",
    "    repeated_chars = {char: count for char, count in char_count.items() if count > 1}\n",
    "    \n",
    "    return repeated_chars\n",
    "\n",
    "# Example usage\n",
    "string = \"programming in python\"\n",
    "repeated = find_repeated_chars(string)\n",
    "\n",
    "print(\"Repeated characters and their count:\")\n",
    "for char, count in repeated.items():\n",
    "    print(f\"'{char}': {count}\")"
   ]
  },
  {
   "cell_type": "code",
   "execution_count": 38,
   "metadata": {},
   "outputs": [
    {
     "name": "stdout",
     "output_type": "stream",
     "text": [
      "Repeated characters and their count:\n",
      "'p': 2\n",
      "'r': 2\n",
      "'o': 2\n",
      "'g': 2\n",
      "'m': 2\n",
      "'i': 2\n",
      "'n': 3\n",
      "' ': 2\n"
     ]
    }
   ],
   "source": [
    "from collections import Counter   #\n",
    "\n",
    "def find_repeated_chars(s):\n",
    "    char_count = Counter(s)  # Count occurrences of each character\n",
    "    repeated_chars = {char: count for char, count in char_count.items() if count > 1}\n",
    "    \n",
    "    return repeated_chars\n",
    "\n",
    "# Example usage\n",
    "string = \"programming in python\"\n",
    "repeated = find_repeated_chars(string)\n",
    "\n",
    "print(\"Repeated characters and their count:\")\n",
    "for char, count in repeated.items():\n",
    "    print(f\"'{char}': {count}\")"
   ]
  },
  {
   "cell_type": "code",
   "execution_count": 39,
   "metadata": {},
   "outputs": [
    {
     "name": "stdout",
     "output_type": "stream",
     "text": [
      "Count of elements in data:\n",
      "Counter({4: 4, 3: 3, 2: 2, 1: 1})\n",
      "[(4, 4), (3, 3)]\n",
      "Count of characters in text:\n",
      "Counter({'a': 3, 'n': 2, 'b': 1})\n",
      "[('a', 3), ('n', 2)]\n"
     ]
    }
   ],
   "source": [
    "from collections import Counter\n",
    "data=[1,2,2,3,3,3,4,4,4,4]\n",
    "count_data=Counter(data)\n",
    "print(\"Count of elements in data:\")\n",
    "print(count_data)\n",
    "print(count_data.most_common(2))\n",
    "\n",
    "text=\"banana\"\n",
    "count=Counter(text)\n",
    "print(\"Count of characters in text:\")\n",
    "print(count)\n",
    "print(count.most_common(2))"
   ]
  },
  {
   "cell_type": "code",
   "execution_count": 1,
   "metadata": {},
   "outputs": [
    {
     "name": "stdout",
     "output_type": "stream",
     "text": [
      "count of elements in data:\n",
      "Counter({5: 5, 4: 4, 3: 3, 2: 2, 1: 1})\n"
     ]
    }
   ],
   "source": [
    "from collections import Counter\n",
    "\n",
    "data=[1,2,2,3,3,3,4,4,4,4,5,5,5,5,5]\n",
    "count=Counter(data)\n",
    "print(\"count of elements in data:\")\n",
    "print(count)"
   ]
  },
  {
   "cell_type": "code",
   "execution_count": 2,
   "metadata": {},
   "outputs": [
    {
     "name": "stdout",
     "output_type": "stream",
     "text": [
      "Not Prime number\n"
     ]
    }
   ],
   "source": [
    "# write a python program to check wheater the given number is prime number or not\n",
    "\n",
    "n=4\n",
    "if n>1:\n",
    "     for i in range(2,int(n**0.5)+1):\n",
    "          if n%i==0:\n",
    "            print(\"Not Prime number\")\n",
    "            break\n",
    "     else:\n",
    "         print('Prime')"
   ]
  },
  {
   "cell_type": "code",
   "execution_count": 3,
   "metadata": {},
   "outputs": [
    {
     "name": "stdout",
     "output_type": "stream",
     "text": [
      "\n",
      "Simple Interest: 100.00\n",
      "Compound Interest: 102.50\n"
     ]
    }
   ],
   "source": [
    "#Python Program to find simple interest and compound interest?\n",
    "\n",
    "def calculate_simple_interest(principal, rate, time):\n",
    "    \"\"\"Function to calculate Simple Interest\"\"\"\n",
    "    si = (principal * rate * time) / 100\n",
    "    return si\n",
    "\n",
    "def calculate_compound_interest(principal, rate, time):\n",
    "    \"\"\"Function to calculate Compound Interest\"\"\"\n",
    "    ci = principal * ((1 + rate / 100) ** time) - principal\n",
    "    return ci\n",
    "\n",
    "# Taking user input\n",
    "P = 1000 #float(input(\"Enter Principal Amount: \"))\n",
    "R = 5 #float(input(\"Enter Annual Interest Rate (%): \"))\n",
    "T = 2 #float(input(\"Enter Time Period (in years): \"))\n",
    "\n",
    "# Calculating interests\n",
    "simple_interest = calculate_simple_interest(P, R, T)\n",
    "compound_interest = calculate_compound_interest(P, R, T)\n",
    "\n",
    "# Displaying results\n",
    "print(f\"\\nSimple Interest: {simple_interest:.2f}\")\n",
    "print(f\"Compound Interest: {compound_interest:.2f}\")\n"
   ]
  },
  {
   "cell_type": "code",
   "execution_count": 4,
   "metadata": {},
   "outputs": [
    {
     "name": "stdout",
     "output_type": "stream",
     "text": [
      "\n",
      "Simple Intrest: 100.00\n",
      "Compound Intrest: 102.50\n"
     ]
    }
   ],
   "source": [
    "def si(principle,rate,time):\n",
    "    formula_si=(principle*rate*time)/100\n",
    "    return formula_si\n",
    "\n",
    "def ci(principle,rate,time):\n",
    "    formula_ci=principle*((1+rate/100)**time)-principle\n",
    "    return formula_ci\n",
    "\n",
    "P=1000\n",
    "R=5\n",
    "T=2\n",
    "\n",
    "find_simple_intrest=si(P,R,T)\n",
    "find_compoubd_intrest=ci(P,R,T)\n",
    "\n",
    "print(f\"\\nSimple Intrest: {find_simple_intrest:.2f}\")\n",
    "print(f\"Compound Intrest: {find_compoubd_intrest:.2f}\")"
   ]
  },
  {
   "cell_type": "code",
   "execution_count": 5,
   "metadata": {},
   "outputs": [
    {
     "name": "stdout",
     "output_type": "stream",
     "text": [
      "\n",
      "Simple Intrest: 10000.0\n",
      "Compound Intrest: 1.2676506002282294e+32\n"
     ]
    }
   ],
   "source": [
    "def find_simple_intrest(Principle,Rate,Time):\n",
    "    formula_simple_intrest=(Principle*Rate*Time)/100\n",
    "    return formula_simple_intrest\n",
    "\n",
    "def find_compound_intrest(Principle,Rate,Time):\n",
    "    formula_compound_intrest=Principle*((1+Rate/100)**Time)-Principle\n",
    "    return formula_compound_intrest\n",
    "\n",
    "P= int(input(\"Enter the principle amt: \"))\n",
    "R=int(input(\"Enter rate of interest: \"))\n",
    "T=int(input(\"enter the time: \"))\n",
    "\n",
    "Find_SI=find_simple_intrest(P,R,T)\n",
    "Find_CI=find_compound_intrest(P,R,T)\n",
    "\n",
    "print(f\"\\nSimple Intrest: {Find_SI:}\")\n",
    "print(f\"Compound Intrest: {Find_CI:}\")"
   ]
  },
  {
   "cell_type": "code",
   "execution_count": 6,
   "metadata": {},
   "outputs": [
    {
     "name": "stdout",
     "output_type": "stream",
     "text": [
      "\n",
      "Welcome to Python Café! ☕\n",
      "Here's our menu:\n",
      "1. Espresso\n",
      "2. Cappuccino\n",
      "3. Latte\n",
      "4. Mocha\n",
      "5. Black Coffee\n",
      "\n",
      "Great choice! A Espresso coming right up. ☕\n",
      "\n",
      "Would you like to add any extras?\n",
      "1. Milk 🥛\n",
      "2. Sugar 🍬\n",
      "3. Whipped Cream 🍦\n",
      "4. Chocolate Syrup 🍫\n",
      "5. No extras, just coffee!\n",
      "Added Milk! ✅\n",
      "Added Sugar! ✅\n",
      "Added Whipped Cream! ✅\n",
      "\n",
      "Brewing your coffee... ☕⏳\n",
      "\n",
      "Here you go! Your delicious Espresso with Milk, Sugar, Whipped Cream is ready! 🎉\n",
      "\n",
      "Fun Fact: Caffeine boosts memory, alertness, and even reaction time! ⚡\n"
     ]
    }
   ],
   "source": [
    "import time\n",
    "import random\n",
    "\n",
    "def coffee_menu():\n",
    "    print(\"\\nWelcome to Python Café! ☕\")\n",
    "    print(\"Here's our menu:\")\n",
    "    print(\"1. Espresso\")\n",
    "    print(\"2. Cappuccino\")\n",
    "    print(\"3. Latte\")\n",
    "    print(\"4. Mocha\")\n",
    "    print(\"5. Black Coffee\")\n",
    "    \n",
    "    choice = input(\"\\nWhat would you like to order? (Enter a number): \")\n",
    "    \n",
    "    coffee_types = {\n",
    "        \"1\": \"Espresso\",\n",
    "        \"2\": \"Cappuccino\",\n",
    "        \"3\": \"Latte\",\n",
    "        \"4\": \"Mocha\",\n",
    "        \"5\": \"Black Coffee\"\n",
    "    }\n",
    "    \n",
    "    if choice not in coffee_types:\n",
    "        print(\"\\nSorry, we don't serve that. How about a nice cup of water? 💧😆\")\n",
    "        return\n",
    "    \n",
    "    coffee = coffee_types[choice]\n",
    "    \n",
    "    print(f\"\\nGreat choice! A {coffee} coming right up. ☕\")\n",
    "    \n",
    "    extras = []\n",
    "    print(\"\\nWould you like to add any extras?\")\n",
    "    print(\"1. Milk 🥛\")\n",
    "    print(\"2. Sugar 🍬\")\n",
    "    print(\"3. Whipped Cream 🍦\")\n",
    "    print(\"4. Chocolate Syrup 🍫\")\n",
    "    print(\"5. No extras, just coffee!\")\n",
    "    \n",
    "    while True:\n",
    "        extra_choice = input(\"\\nChoose an extra (or type 'done' to finish): \")\n",
    "        extra_options = {\n",
    "            \"1\": \"Milk\",\n",
    "            \"2\": \"Sugar\",\n",
    "            \"3\": \"Whipped Cream\",\n",
    "            \"4\": \"Chocolate Syrup\"\n",
    "        }\n",
    "        \n",
    "        if extra_choice.lower() == \"done\":\n",
    "            break\n",
    "        \n",
    "        if extra_choice in extra_options and extra_options[extra_choice] not in extras:\n",
    "            extras.append(extra_options[extra_choice])\n",
    "            print(f\"Added {extra_options[extra_choice]}! ✅\")\n",
    "        elif extra_choice in extra_options:\n",
    "            print(\"You've already added that! 😆\")\n",
    "        else:\n",
    "            print(\"Invalid choice. Try again!\")\n",
    "\n",
    "    print(\"\\nBrewing your coffee... ☕⏳\")\n",
    "    time.sleep(2)  \n",
    "    print(\"\\nHere you go! Your delicious\", coffee, \"with\", \", \".join(extras) if extras else \"no extras\", \"is ready! 🎉\")\n",
    "    \n",
    "    fun_facts = [\n",
    "        \"Did you know? The world's most expensive coffee comes from beans eaten and pooped by civet cats! 🐱💩\",\n",
    "        \"Coffee beans are actually seeds, not beans! 🌱\",\n",
    "        \"Caffeine boosts memory, alertness, and even reaction time! ⚡\",\n",
    "        \"Espresso means 'pressed out' in Italian, which refers to how it's made! 🇮🇹\",\n",
    "        \"The smell of coffee alone can help you wake up! ☕👃\"\n",
    "    ]\n",
    "    \n",
    "    print(\"\\nFun Fact: \" + random.choice(fun_facts))\n",
    "\n",
    "coffee_menu()\n"
   ]
  },
  {
   "cell_type": "code",
   "execution_count": 11,
   "metadata": {},
   "outputs": [
    {
     "name": "stdout",
     "output_type": "stream",
     "text": [
      "\n",
      "Welcome to Rohit's Python cafe! ☕\n",
      "\n",
      " Here's our menu:\n",
      "1. Espresso\n",
      "2. cappuccino\n",
      "3. Latte\n",
      "4. Mocha\n",
      "5. Black coffee\n",
      "\n",
      "Great choice! A {coffee} coming right up. ☕\n",
      "\n",
      "Would you like to add any extras?\n",
      "1. Milk 🥛\n",
      "2. Sugar 🍬\n",
      "3. Whipped Cream 🍦\n",
      "4. Chocolate Syrup 🍫\n",
      "5. No extras, just coffee!\n",
      "Added Milk! ✅\n",
      "you have already added it\n",
      "Added Sugar! ✅\n",
      "you have already added it\n",
      "Added Whipped cream! ✅\n",
      "Added Chocolate Syrup! ✅\n",
      "\n",
      "Brewing your coffee... ☕⏳\n",
      "\n",
      "Here you go! Your delicious Espresso with Milk, Sugar, Whipped cream, Chocolate Syrup is ready! 🎉\n",
      "\n",
      "Fun Fact: Caffeine boosts memory, alertness, and even reaction time! ⚡\n"
     ]
    }
   ],
   "source": [
    "import time\n",
    "import random\n",
    "\n",
    "def coffee_menu():\n",
    "    print(\"\\nWelcome to Rohit's Python cafe! ☕\")\n",
    "    print(\"\\n Here's our menu:\")\n",
    "    print(\"1. Espresso\")\n",
    "    print(\"2. cappuccino\")\n",
    "    print(\"3. Latte\")\n",
    "    print(\"4. Mocha\")\n",
    "    print(\"5. Black coffee\")\n",
    "\n",
    "\n",
    "    choise=input(\"\\nWhat you would like to order?: \")\n",
    "\n",
    "    coffee_types={\n",
    "        \"1\": \"Espresso\",\n",
    "        \"2\": \"cappuccino\",\n",
    "        \"3\": \"Latte\",\n",
    "        \"4\": \"Mocha\",\n",
    "        \"5\": \"Black coffee\"\n",
    "    }\n",
    "\n",
    "    if choise not in coffee_types:\n",
    "        print(\"\\nSorry, we don't serve that. How about a nice cup of water? 💧😆\")\n",
    "        return\n",
    "    \n",
    "    coffee=coffee_types[choise]\n",
    "\n",
    "    print(\"\\nGreat choice! A {coffee} coming right up. ☕\")\n",
    "\n",
    "    extras=[]\n",
    "    print(\"\\nWould you like to add any extras?\")\n",
    "    print(\"1. Milk 🥛\")\n",
    "    print(\"2. Sugar 🍬\")\n",
    "    print(\"3. Whipped Cream 🍦\")\n",
    "    print(\"4. Chocolate Syrup 🍫\")\n",
    "    print(\"5. No extras, just coffee!\")\n",
    "\n",
    "    while True:\n",
    "        extra_choice=input(\"\\nWould you like an extra(or type done): \")\n",
    "        extra_options={\n",
    "            \"1\":\"Milk\",\n",
    "            \"2\":\"Sugar\",\n",
    "            \"3\":\"Whipped cream\",\n",
    "            \"4\":\"Chocolate Syrup\",\n",
    "            \"5\":\"No extras, just coffee!\"\n",
    "            }\n",
    "        if extra_choice.lower()== \"done\":\n",
    "            break\n",
    "        \n",
    "        if extra_choice in extra_options and extra_options[extra_choice] not in extras:\n",
    "            extras.append(extra_options[extra_choice])\n",
    "            print(f\"Added {extra_options[extra_choice]}! ✅\")\n",
    "        elif extra_choice in extra_options:\n",
    "            print(\"you have already added it\")\n",
    "        else:\n",
    "            print(\"Invalid choice, Try again!\")\n",
    "    print(\"\\nBrewing your coffee... ☕⏳\")\n",
    "    time.sleep(2)\n",
    "    print(\"\\nHere you go! Your delicious\", coffee, \"with\", \", \".join(extras) if extras else \"no extras\", \"is ready! 🎉\")\n",
    "\n",
    "    fun_facts = [\n",
    "        \"Did you know? The world's most expensive coffee comes from beans eaten and pooped by civet cats! 🐱💩\",\n",
    "        \"Coffee beans are actually seeds, not beans! 🌱\",\n",
    "        \"Caffeine boosts memory, alertness, and even reaction time! ⚡\",\n",
    "        \"Espresso means 'pressed out' in Italian, which refers to how it's made! 🇮🇹\",\n",
    "        \"The smell of coffee alone can help you wake up! ☕👃\"\n",
    "    ]\n",
    "    \n",
    "    print(\"\\nFun Fact: \" + random.choice(fun_facts))\n",
    "\n",
    "    \n",
    "\n",
    "coffee_menu()\n"
   ]
  },
  {
   "cell_type": "code",
   "execution_count": 8,
   "metadata": {},
   "outputs": [
    {
     "name": "stdout",
     "output_type": "stream",
     "text": [
      "\n",
      "Welcome to Rohit's Caffe\n",
      "\n",
      "Here's the menu\n",
      "1. Espresso\n",
      "2. cappuccino\n",
      "3. Latte\n",
      "4. Mocha\n",
      "5. Black coffee\n",
      "\n",
      "Great choice \n",
      "\n",
      "What would you like to have extra\n",
      "1.Milk\n",
      "2.Sugar\n",
      "3.Whipped cream\n",
      "4.Syrup\n",
      "No Extra, Just coffee\n",
      "Extra added!\n",
      "Extra added!\n",
      "Extra added!\n",
      "\n",
      "Brewing your coffee\n",
      "Here you go! Your delicious {'1': 'Espresso', '2': 'cappuccino', '3': 'Latte', '4': 'Mocha', '5': 'Black coffee'} with Milk, Sugar, Whipped cream is ready! 🎉\n"
     ]
    }
   ],
   "source": [
    "import time\n",
    "import random\n",
    "\n",
    "def coffee_menu():\n",
    "    print(\"\\nWelcome to Rohit's Caffe\")\n",
    "    print(\"\\nHere's the menu\")\n",
    "    print(\"1. Espresso\")\n",
    "    print(\"2. cappuccino\")\n",
    "    print(\"3. Latte\")\n",
    "    print(\"4. Mocha\")\n",
    "    print(\"5. Black coffee\")\n",
    "\n",
    "    select=input(\"\\nSelect your coffee in number\")\n",
    "\n",
    "    coffee={\n",
    "    \"1\":\"Espresso\",\n",
    "    \"2\":\"cappuccino\",\n",
    "    \"3\":\"Latte\",\n",
    "    \"4\":\"Mocha\",\n",
    "    \"5\":\"Black coffee\"\n",
    "}\n",
    "\n",
    "    if select not in coffee:\n",
    "        print(\"\\n Sorry we don't serve, how about a glass of water!\")\n",
    "        return\n",
    "\n",
    "    your_choice=coffee[select]\n",
    "\n",
    "    print(\"\\nGreat choice \")\n",
    "    \n",
    "    extras=[]\n",
    "    print(\"\\nWhat would you like to have extra\")\n",
    "    print(\"1.Milk\"),\n",
    "    print(\"2.Sugar\"),\n",
    "    print(\"3.Whipped cream\"),\n",
    "    print(\"4.Syrup\"),\n",
    "    print(\"No Extra, Just coffee\")\n",
    "    \n",
    "    while True:\n",
    "        extra_select=input(\"\\nSelect the extra!\")\n",
    "        extra_choice={\n",
    "            \"1\":\"Milk\",\n",
    "            \"2\":\"Sugar\",\n",
    "            \"3\":\"Whipped cream\",\n",
    "            \"4\":\"Syrup\",\n",
    "            \"5\":\"No Extra, Just coffee\"\n",
    "        }\n",
    "        \n",
    "        if extra_select not in extra_choice:\n",
    "            break\n",
    "        \n",
    "        if extra_select in extra_choice and extra_choice[extra_select] not in extras:\n",
    "            extras.append(extra_choice[extra_select])\n",
    "            print(\"Extra added!\")\n",
    "            \n",
    "        elif extra_select in extras:\n",
    "            print(\"\\nAlready added!\")\n",
    "            \n",
    "        else:\n",
    "            print(\"Invalid choice, Try again\")\n",
    "    print(\"\\nBrewing your coffee\")\n",
    "    time.sleep(2)\n",
    "    print(\"Here you go! Your delicious\", coffee, \"with\", \", \".join(extras) if extras else \"no extras\", \"is ready! 🎉\")\n",
    "    \n",
    "coffee_menu()"
   ]
  },
  {
   "cell_type": "markdown",
   "metadata": {},
   "source": [
    "### Here's a funny Python script to \"overcome laziness.\" It will remind you in an amusing way why you need to stop procrastinating! 😆"
   ]
  },
  {
   "cell_type": "code",
   "execution_count": 9,
   "metadata": {},
   "outputs": [
    {
     "name": "stdout",
     "output_type": "stream",
     "text": [
      "Motivational incoming incoming in 3...\n",
      "Motivational incoming incoming in 2...\n",
      "Motivational incoming incoming in 1...\n",
      "\n",
      " Get up! Even your computer is working harder than you. \n"
     ]
    }
   ],
   "source": [
    "import time\n",
    "import random\n",
    "import webbrowser\n",
    "import os\n",
    "\n",
    "MOTIVATIONAL_QUOTES=[\n",
    "    \"Get up! Even your computer is working harder than you.\",\n",
    "    \"Remember, even a snail reaches its destination... eventually!\",\n",
    "    \"404: Motivation not found. Restart your brain!\",\n",
    "    \"If you don't work now, your future AI overlords will replace you!\",\n",
    "    \"Your bed is not your office. Move!\",\n",
    "    \"Your coffee is getting cold, just like your productivity.\",\n",
    "    \"Even turtles move. What's your excuse?\",\n",
    "]\n",
    "\n",
    "def annoy_user():\n",
    "    for i in range(3, 0, -1):\n",
    "        print(f\"Motivational incoming incoming in {i}...\")\n",
    "        time.sleep(1)\n",
    "\n",
    "    quote= random.choice(MOTIVATIONAL_QUOTES)\n",
    "    print(\"\\n \"+ quote +\" \")\n",
    "\n",
    "    #webbrowser.open(\"https://www.youtube.com/results?search_query=how+to+stop+being+lazy\")\n",
    "\n",
    "    if os.name == \"nt\":\n",
    "        os.system(\"echo \\a\")\n",
    "    else:\n",
    "        os.system(\"say 'Wake up and work!'\")\n",
    "\n",
    "if __name__==\"__main__\":\n",
    "    annoy_user()"
   ]
  },
  {
   "cell_type": "code",
   "execution_count": 15,
   "metadata": {},
   "outputs": [
    {
     "name": "stdout",
     "output_type": "stream",
     "text": [
      "Rohit is facing challenges...\n",
      "Attempt 1: Failed. But Rohit is not giving up!\n",
      "Attempt 2: Failed. But Rohit is not giving up!\n",
      "Attempt 3: Failed. But Rohit is not giving up!\n",
      "Attempt 4: Failed. But Rohit is not giving up!\n",
      "Attempt 5: Failed. But Rohit is not giving up!\n",
      "Rohit is analyzing past mistakes and improving skills...\n",
      "Gaining knowledge, refining strategy, and developing resilience!\n",
      "After 5 failures, Rohit has finally succeeded! Never give up!\n"
     ]
    }
   ],
   "source": [
    "class ComebackStory:\n",
    "    def __init__(self, name):\n",
    "        self.name = name\n",
    "        self.failures = 0\n",
    "        self.success = False\n",
    "    \n",
    "    def face_failure(self, attempts):\n",
    "        print(f\"{self.name} is facing challenges...\")\n",
    "        for i in range(1, attempts + 1):\n",
    "            self.failures += 1\n",
    "            print(f\"Attempt {i}: Failed. But {self.name} is not giving up!\")\n",
    "    \n",
    "    def learn_and_improve(self):\n",
    "        print(f\"{self.name} is analyzing past mistakes and improving skills...\")\n",
    "        print(\"Gaining knowledge, refining strategy, and developing resilience!\")\n",
    "    \n",
    "    def achieve_success(self):\n",
    "        self.success = True\n",
    "        print(f\"After {self.failures} failures, {self.name} has finally succeeded! Never give up!\")\n",
    "    \n",
    "    def comeback_journey(self, attempts):\n",
    "        self.face_failure(attempts)\n",
    "        self.learn_and_improve()\n",
    "        self.achieve_success()\n",
    "\n",
    "if __name__ == \"__main__\":\n",
    "    person = ComebackStory(\"Rohit\")  # You can change the name\n",
    "    person.comeback_journey(5)\n"
   ]
  },
  {
   "cell_type": "code",
   "execution_count": 25,
   "metadata": {},
   "outputs": [
    {
     "name": "stdout",
     "output_type": "stream",
     "text": [
      "Available Movies:\n",
      "Avengers Endgame: | Show Time: 3:00 PM | Price: 300 | Review: 4.8 | Available Seats: 10\n",
      "Inception       : | Show Time: 6:00 PM | Price: 250 | Review: 4.9 | Available Seats: 8\n",
      "Interstellar    : | Show Time: 9:00 PM | Price: 200 | Review: 4.7 | Available Seats: 12\n",
      "\n",
      "Booking the best movie based on review:\n",
      "2 ticket(s) booked successfully for Rahul Verma for Inception       : at 6:00 PM.\n",
      "\n",
      "Booking the cheapest movie:\n",
      "3 ticket(s) booked successfully for Priya Sharma for Interstellar    : at 9:00 PM.\n",
      "\n",
      "Booking the earliest show:\n",
      "1 ticket(s) booked successfully for Amit Kumar for Avengers Endgame: at 3:00 PM.\n"
     ]
    }
   ],
   "source": [
    "class Movie:\n",
    "    def __init__(self, name, show_time, price, review, seats):\n",
    "        self.name = name\n",
    "        self.show_time = show_time\n",
    "        self.price = price\n",
    "        self.review = review\n",
    "        self.available_seats = seats\n",
    "        self.bookings = []\n",
    "\n",
    "    def book_ticket(self, customer_name, num_tickets):\n",
    "        if num_tickets <= self.available_seats:\n",
    "            self.available_seats -= num_tickets\n",
    "            booking = {\"Customer\": customer_name, \"Tickets\": num_tickets, \"Movie\": self.name, \"Show Time\": self.show_time}\n",
    "            self.bookings.append(booking)\n",
    "            print(f\"{num_tickets} ticket(s) booked successfully for {customer_name} for {self.name} at {self.show_time}.\")\n",
    "        else:\n",
    "            print(\"Sorry, not enough seats available.\")\n",
    "\n",
    "    def show_details(self):\n",
    "        print(f\"{self.name} | Show Time: {self.show_time} | Price: {self.price} | Review: {self.review} | Available Seats: {self.available_seats}\")\n",
    "\n",
    "class Theater:\n",
    "    def __init__(self):\n",
    "        self.movies = []\n",
    "\n",
    "    def add_movie(self, movie):\n",
    "        self.movies.append(movie)\n",
    "\n",
    "    def list_movies(self):\n",
    "        for movie in self.movies:\n",
    "            movie.show_details()\n",
    "\n",
    "    def book_best_movie(self, customer_name, num_tickets, criteria=\"review\"):\n",
    "        if not self.movies:\n",
    "            print(\"No movies available for booking.\")\n",
    "            return\n",
    "        \n",
    "        if criteria == \"review\":\n",
    "            best_movie = max(self.movies, key=lambda m: m.review)\n",
    "        elif criteria == \"price\":\n",
    "            best_movie = min(self.movies, key=lambda m: m.price)\n",
    "        elif criteria == \"show_time\":\n",
    "            best_movie = min(self.movies, key=lambda m: m.show_time)\n",
    "        else:\n",
    "            print(\"Invalid criteria!\")\n",
    "            return\n",
    "        \n",
    "        best_movie.book_ticket(customer_name, num_tickets)\n",
    "\n",
    "# Example usage\n",
    "if __name__ == \"__main__\":\n",
    "    theater = Theater()\n",
    "    movie1 = Movie(\"Avengers Endgame:\", \"3:00 PM\", 300, 4.8, 10)\n",
    "    movie2 = Movie(\"Inception       :\", \"6:00 PM\", 250, 4.9, 8)\n",
    "    movie3 = Movie(\"Interstellar    :\", \"9:00 PM\", 200, 4.7, 12)\n",
    "\n",
    "    theater.add_movie(movie1)\n",
    "    theater.add_movie(movie2)\n",
    "    theater.add_movie(movie3)\n",
    "    \n",
    "    print(\"Available Movies:\")\n",
    "    theater.list_movies()\n",
    "    \n",
    "    print(\"\\nBooking the best movie based on review:\")\n",
    "    theater.book_best_movie(\"Rahul Verma\", 2, criteria=\"review\")\n",
    "    \n",
    "    print(\"\\nBooking the cheapest movie:\")\n",
    "    theater.book_best_movie(\"Priya Sharma\", 3, criteria=\"price\")\n",
    "    \n",
    "    print(\"\\nBooking the earliest show:\")\n",
    "    theater.book_best_movie(\"Amit Kumar\", 1, criteria=\"show_time\")\n"
   ]
  },
  {
   "cell_type": "code",
   "execution_count": 27,
   "metadata": {},
   "outputs": [
    {
     "name": "stdout",
     "output_type": "stream",
     "text": [
      "Available Postpaid SIM Plans:\n",
      "Plan: Basic Plan\n",
      "Price: ₹299/month\n",
      "Data Limit: 10GB\n",
      "Call Limit: 300 minutes\n",
      "Validity: 1 months\n",
      "\n",
      "Plan: Premium Plan\n",
      "Price: ₹499/month\n",
      "Data Limit: 50GB\n",
      "Call Limit: 1000 minutes\n",
      "Validity: 1 months\n",
      "\n",
      "Plan: Unlimited Plan\n",
      "Price: ₹799/month\n",
      "Data Limit: 100GB\n",
      "Call Limit: 2000 minutes\n",
      "Validity: 1 months\n",
      "\n",
      "Plan Premium Plan booked successfully for Ravi Kumar.\n",
      "Plan Basic Plan booked successfully for Priya Sharma.\n"
     ]
    }
   ],
   "source": [
    "class PostpaidSIMPlan:\n",
    "    def __init__(self, plan_name, price, data_limit, call_limit, validity_months):\n",
    "        self.plan_name = plan_name\n",
    "        self.price = price\n",
    "        self.data_limit = data_limit  # in GB\n",
    "        self.call_limit = call_limit  # in minutes\n",
    "        self.validity_months = validity_months\n",
    "\n",
    "    def show_details(self):\n",
    "        print(f\"Plan: {self.plan_name}\")\n",
    "        print(f\"Price: ₹{self.price}/month\")\n",
    "        print(f\"Data Limit: {self.data_limit}GB\")\n",
    "        print(f\"Call Limit: {self.call_limit} minutes\")\n",
    "        print(f\"Validity: {self.validity_months} months\")\n",
    "        print(\"\")\n",
    "\n",
    "class PostpaidSIMBooking:\n",
    "    def __init__(self):\n",
    "        self.available_plans = []\n",
    "        self.bookings = []\n",
    "\n",
    "    def add_plan(self, plan):\n",
    "        self.available_plans.append(plan)\n",
    "\n",
    "    def list_plans(self):\n",
    "        print(\"Available Postpaid SIM Plans:\")\n",
    "        for plan in self.available_plans:\n",
    "            plan.show_details()\n",
    "\n",
    "    def book_plan(self, customer_name, plan_name):\n",
    "        # Check if the plan exists\n",
    "        plan = next((plan for plan in self.available_plans if plan.plan_name == plan_name), None)\n",
    "        if plan:\n",
    "            booking = {\"Customer\": customer_name, \"Plan\": plan.plan_name, \"Price\": plan.price}\n",
    "            self.bookings.append(booking)\n",
    "            print(f\"Plan {plan_name} booked successfully for {customer_name}.\")\n",
    "        else:\n",
    "            print(f\"Sorry, {plan_name} is not available. Please choose from the available plans.\")\n",
    "\n",
    "    def show_bookings(self):\n",
    "        if not self.bookings:\n",
    "            print(\"No bookings made yet.\")\n",
    "        else:\n",
    "            print(\"Booking History:\")\n",
    "            for booking in self.bookings:\n",
    "                print(booking)\n",
    "\n",
    "\n",
    "# Example Usage:\n",
    "if __name__ == \"__main__\":\n",
    "    sim_booking_system = PostpaidSIMBooking()\n",
    "\n",
    "    # Adding plans\n",
    "    plan1 = PostpaidSIMPlan(\"Basic Plan\", 299, 10, 300, 1)\n",
    "    plan2 = PostpaidSIMPlan(\"Premium Plan\", 499, 50, 1000, 1)\n",
    "    plan3 = PostpaidSIMPlan(\"Unlimited Plan\", 799, 100, 2000, 1)\n",
    "\n",
    "    sim_booking_system.add_plan(plan1)\n",
    "    sim_booking_system.add_plan(plan2)\n",
    "    sim_booking_system.add_plan(plan3)\n",
    "\n",
    "    # List available plans\n",
    "    sim_booking_system.list_plans()\n",
    "\n",
    "    # Booking a plan\n",
    "    sim_booking_system.book_plan(\"Ravi Kumar\", \"Premium Plan\")\n",
    "    sim_booking_system.book_plan(\"Priya Sharma\", \"Basic Plan\")\n",
    "\n",
    "    # Show booking history\n",
    "    #sim_booking_system.show_bookings()"
   ]
  },
  {
   "cell_type": "code",
   "execution_count": null,
   "metadata": {},
   "outputs": [],
   "source": []
  }
 ],
 "metadata": {
  "kernelspec": {
   "display_name": "base",
   "language": "python",
   "name": "python3"
  },
  "language_info": {
   "codemirror_mode": {
    "name": "ipython",
    "version": 3
   },
   "file_extension": ".py",
   "mimetype": "text/x-python",
   "name": "python",
   "nbconvert_exporter": "python",
   "pygments_lexer": "ipython3",
   "version": "3.12.4"
  }
 },
 "nbformat": 4,
 "nbformat_minor": 2
}
