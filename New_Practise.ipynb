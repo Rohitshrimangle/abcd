{
 "cells": [
  {
   "cell_type": "code",
   "execution_count": 2,
   "metadata": {},
   "outputs": [
    {
     "data": {
      "text/plain": [
       "30"
      ]
     },
     "execution_count": 2,
     "metadata": {},
     "output_type": "execute_result"
    }
   ],
   "source": [
    "a=10\n",
    "b=20\n",
    "c=a+b\n",
    "c"
   ]
  },
  {
   "cell_type": "code",
   "execution_count": 7,
   "metadata": {},
   "outputs": [
    {
     "name": "stdout",
     "output_type": "stream",
     "text": [
      "{'a': 2, 'b': 3, 'c': 4}\n"
     ]
    }
   ],
   "source": [
    "def countfre(list1):\n",
    "    frequency={}\n",
    "    for i in list1:\n",
    "        if i in frequency:\n",
    "            frequency[i]+=1\n",
    "        else:\n",
    "            frequency[i]=1\n",
    "    print(frequency)\n",
    "\n",
    "list1=['a','a','b','b','b','c','c','c','c']\n",
    "countfre(list1)"
   ]
  },
  {
   "cell_type": "code",
   "execution_count": 8,
   "metadata": {},
   "outputs": [
    {
     "name": "stdout",
     "output_type": "stream",
     "text": [
      "{'Hingoli': 4, 'Wasim': 3, 'Vasmat': 2, 'Beed': 1}\n"
     ]
    }
   ],
   "source": [
    "def countfre(list2):\n",
    "    frequency1={}\n",
    "    for i in list2:\n",
    "        if i in frequency1:\n",
    "            frequency1[i]+=1\n",
    "        else:\n",
    "            frequency1[i]=1\n",
    "    \n",
    "    print(frequency1)\n",
    "\n",
    "list2=[\"Hingoli\",\"Hingoli\",\"Hingoli\",\"Hingoli\",\"Wasim\",\"Wasim\",\"Wasim\",\"Vasmat\",\"Vasmat\",\"Beed\"]\n",
    "countfre(list2)"
   ]
  },
  {
   "cell_type": "code",
   "execution_count": null,
   "metadata": {},
   "outputs": [],
   "source": []
  }
 ],
 "metadata": {
  "kernelspec": {
   "display_name": "base",
   "language": "python",
   "name": "python3"
  },
  "language_info": {
   "codemirror_mode": {
    "name": "ipython",
    "version": 3
   },
   "file_extension": ".py",
   "mimetype": "text/x-python",
   "name": "python",
   "nbconvert_exporter": "python",
   "pygments_lexer": "ipython3",
   "version": "3.12.4"
  }
 },
 "nbformat": 4,
 "nbformat_minor": 2
}
